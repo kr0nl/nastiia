{
 "cells": [
  {
   "cell_type": "markdown",
   "metadata": {},
   "source": [
    "# Домашнее задание 2\n",
    "## На курсе Анализ данных в Python (Социология)\n",
    "### Темы: предобработка данных для модели, линейная регрессия, регуляризация, оптимизация гиперпараметров, классификация и логистическая регрессия, SGD"
   ]
  },
  {
   "cell_type": "markdown",
   "metadata": {
    "id": "RBxaROjhnExd"
   },
   "source": [
    "**Примечание**\n",
    "\n",
    "В каждой части оцениваются как код, **так и ответы на вопросы.** Если вопрос задается конкретно, то предполагается, что вы дадите комментарии.\n",
    "\n",
    "Если нет одного и/или другого, то часть баллов за соответствующее задание снимается."
   ]
  },
  {
   "cell_type": "code",
   "execution_count": 1,
   "metadata": {
    "id": "bKXD33FOsnGd"
   },
   "outputs": [],
   "source": [
    "import pandas as pd\n",
    "import numpy as np\n",
    "import matplotlib.pyplot as plt\n",
    "import random\n",
    "import seaborn as sns\n",
    "\n",
    "random.seed(42)\n",
    "np.random.seed(42)"
   ]
  },
  {
   "cell_type": "markdown",
   "metadata": {
    "id": "GAzbEw1ctU4f"
   },
   "source": [
    "**Задание 0 (0 баллов).**\n",
    "Для чего фиксируем сиды в домашках?"
   ]
  },
  {
   "cell_type": "markdown",
   "metadata": {
    "id": "gNtt7mM9eAY4"
   },
   "source": [
    "это позволит обеспечить воспроизводимость результатов. При отсутствии фиксации мы каждый раз получали бы новый набор рандомных данных, и при запуске кода мы бы получали разные результаты. При фиксации мы работаем с одинаковым набором данных, что позволит нам изменять и совершенствовать сам код, без дополнительного внимания к тому, какой набор данных в нем присутствует. Фиксация кода обеспечивает уверенность в его совершенствовании тем, что мы будем наблюдать за самой моделью, а не за её изменениями в силу каждый раз использования ею разных данных. Разница в коде будет обусловлена самой моделью, а не данными.\n"
   ]
  },
  {
   "cell_type": "markdown",
   "metadata": {
    "id": "ykzSVgN7q-xZ"
   },
   "source": [
    "# **Часть 1 | EDA и визуализация**\n",
    "\n",
    "Первая часть состоит из классических шагов EDA:\n",
    "\n",
    "- Базовый EDA и обработка признаков\n",
    "- Визуализации признаков и их анализ\n"
   ]
  },
  {
   "cell_type": "markdown",
   "metadata": {
    "id": "e-4bM9CKAtCj"
   },
   "source": [
    "## **Простейший EDA и обработка признаков (4.5 балла)**"
   ]
  },
  {
   "cell_type": "code",
   "execution_count": 41,
   "metadata": {
    "colab": {
     "base_uri": "https://localhost:8080/"
    },
    "id": "FniH6eCGFSi_",
    "outputId": "4fd8379a-e20e-4e8a-c737-14bc17dedad0"
   },
   "outputs": [
    {
     "name": "stdout",
     "output_type": "stream",
     "text": [
      "Train data shape: (6999, 13)\n",
      "Test data shape:  (1000, 13)\n"
     ]
    }
   ],
   "source": [
    "df_train = pd.read_csv('https://raw.githubusercontent.com/Murcha1990/MLDS_ML_2022/main/Hometasks/HT1/cars_train.csv')\n",
    "df_test = pd.read_csv('https://raw.githubusercontent.com/Murcha1990/MLDS_ML_2022/main/Hometasks/HT1/cars_test.csv')\n",
    "\n",
    "print(\"Train data shape:\", df_train.shape)\n",
    "print(\"Test data shape: \", df_test.shape)\n"
   ]
  },
  {
   "cell_type": "markdown",
   "metadata": {
    "id": "CPe2gY1agYfp"
   },
   "source": [
    "### **Задание 1 (1.65 балла)**\n",
    "\n",
    "Выполните операции, направленные на практику основных действий с `pandas`:\n",
    "- [ ] Отобразите 10 случайных строк тренировочного датасета (0.15 балла)\n",
    "- [ ] Отобразите первые 5 и последние 5 объектов тестового датасета (0.1 балла)\n",
    "- [ ] Посмотрите, есть ли в датасете пропуски. Запишите/выведите названия колонок, для которых есть пропущенные значения (0.1 балла)\n",
    "- [ ] Посмотрите, есть ли в данных явные дубликаты (0.05 балла)\n"
   ]
  },
  {
   "cell_type": "code",
   "execution_count": 3,
   "metadata": {
    "id": "_Saw94eMhP5E"
   },
   "outputs": [
    {
     "name": "stdout",
     "output_type": "stream",
     "text": [
      "10 Случайных строк в тренировочном датасете:                                         name  year  selling_price  km_driven  \\\n",
      "6565        Renault KWID Climber 1.0 MT BSIV  2019         300000      35000   \n",
      "2943                      Maruti Wagon R LXI  2013         225000      58343   \n",
      "2024                    Hyundai i20 Asta 1.2  2013         360000      30000   \n",
      "263                     Hyundai i20 1.2 Asta  2010         300000      70000   \n",
      "4586        Skoda Octavia L and K 1.9 TDI MT  2005         250000     120000   \n",
      "4479                         Maruti Ciaz ZXi  2016         700000      20000   \n",
      "4881  Hyundai Grand i10 1.2 Kappa Magna BSIV  2017         445000      27000   \n",
      "3583          Ford Ecosport 1.5 DV5 MT Trend  2016         515000      68609   \n",
      "6361                  Hyundai Verna 1.4 VTVT  2014         500000      33400   \n",
      "4108                     Hyundai i20 Era 1.2  2015         490000      45900   \n",
      "\n",
      "        fuel       seller_type transmission         owner     mileage  \\\n",
      "6565  Petrol        Individual       Manual   First Owner  23.01 kmpl   \n",
      "2943  Petrol  Trustmark Dealer       Manual   First Owner  21.79 kmpl   \n",
      "2024  Petrol        Individual       Manual   First Owner   18.5 kmpl   \n",
      "263   Petrol        Individual       Manual   First Owner   17.0 kmpl   \n",
      "4586  Diesel        Individual       Manual   Third Owner   16.4 kmpl   \n",
      "4479  Petrol        Individual       Manual   First Owner  20.73 kmpl   \n",
      "4881  Petrol        Individual       Manual   First Owner   18.9 kmpl   \n",
      "3583  Diesel            Dealer       Manual   First Owner   22.7 kmpl   \n",
      "6361  Petrol        Individual       Manual   First Owner  17.43 kmpl   \n",
      "4108  Petrol        Individual       Manual  Second Owner   18.6 kmpl   \n",
      "\n",
      "       engine  max_power                 torque  seats  \n",
      "6565   999 CC     67 bhp          91Nm@ 4250rpm    5.0  \n",
      "2943   998 CC  67.05 bhp          90Nm@ 3500rpm    5.0  \n",
      "2024  1197 CC  82.85 bhp       113.7Nm@ 4000rpm    5.0  \n",
      "263   1197 CC     80 bhp  11.4 kgm at 4,000 rpm    5.0  \n",
      "4586  1896 CC     90 bhp  21.4@ 1,900(kgm@ rpm)    5.0  \n",
      "4479  1373 CC   91.1 bhp         130Nm@ 4000rpm    5.0  \n",
      "4881  1197 CC  81.86 bhp      113.75nm@ 4000rpm    5.0  \n",
      "3583  1498 CC  89.84 bhp    204Nm@ 2000-2750rpm    5.0  \n",
      "6361  1396 CC  105.5 bhp       135.3Nm@ 5000rpm    5.0  \n",
      "4108  1197 CC  81.83 bhp       114.7Nm@ 4000rpm    5.0  \n"
     ]
    }
   ],
   "source": [
    "# your code here\n",
    "random = df_train.sample(n=10, random_state=42)\n",
    "\n",
    "# 10 Случайных строк тренировочного датасета \n",
    "print(f'10 Случайных строк в тренировочном датасете: {random}')\n"
   ]
  },
  {
   "cell_type": "code",
   "execution_count": 4,
   "metadata": {},
   "outputs": [
    {
     "name": "stdout",
     "output_type": "stream",
     "text": [
      "Первые 5 строк датасета:                                      name  year  selling_price  km_driven  \\\n",
      "0                  Mahindra Xylo E4 BS IV  2010         229999     168000   \n",
      "1              Tata Nexon 1.5 Revotorq XE  2017         665000      25000   \n",
      "2                    Honda Civic 1.8 S AT  2007         175000     218463   \n",
      "3                    Honda City i DTEC VX  2015         635000     173000   \n",
      "4  Tata Indica Vista Aura 1.2 Safire BSIV  2011         130000      70000   \n",
      "\n",
      "     fuel seller_type transmission         owner    mileage   engine  \\\n",
      "0  Diesel  Individual       Manual   First Owner  14.0 kmpl  2498 CC   \n",
      "1  Diesel  Individual       Manual   First Owner  21.5 kmpl  1497 CC   \n",
      "2  Petrol  Individual    Automatic   First Owner  12.9 kmpl  1799 CC   \n",
      "3  Diesel  Individual       Manual   First Owner  25.1 kmpl  1498 CC   \n",
      "4  Petrol  Individual       Manual  Second Owner  16.5 kmpl  1172 CC   \n",
      "\n",
      "   max_power                   torque  seats  \n",
      "0    112 bhp  260 Nm at 1800-2200 rpm    7.0  \n",
      "1  108.5 bhp      260Nm@ 1500-2750rpm    5.0  \n",
      "2    130 bhp           172Nm@ 4300rpm    5.0  \n",
      "3   98.6 bhp           200Nm@ 1750rpm    5.0  \n",
      "4     65 bhp     96  Nm at 3000  rpm     5.0  \n"
     ]
    }
   ],
   "source": [
    "# Первые 5 строк тестового датасета \n",
    "print(f'Первые 5 строк датасета: {df_test.head(5)}')"
   ]
  },
  {
   "cell_type": "code",
   "execution_count": 5,
   "metadata": {},
   "outputs": [
    {
     "name": "stdout",
     "output_type": "stream",
     "text": [
      "Последние 5 строк датасета:                                  name  year  selling_price  km_driven    fuel  \\\n",
      "995            Hyundai i10 Magna 1.1L  2008         250000     100000  Petrol   \n",
      "996  Hyundai i20 2015-2017 Sportz 1.2  2017         440000      50000  Petrol   \n",
      "997            Hyundai i20 Era Diesel  2009         340000      40000  Diesel   \n",
      "998                  Hyundai i10 Asta  2012         350000      25000  Petrol   \n",
      "999              Honda City i DTec SV  2016         700000     110000  Diesel   \n",
      "\n",
      "    seller_type transmission         owner     mileage   engine  max_power  \\\n",
      "995  Individual       Manual  Second Owner  19.81 kmpl  1086 CC  68.05 bhp   \n",
      "996  Individual       Manual  Second Owner   18.6 kmpl  1197 CC  81.83 bhp   \n",
      "997  Individual       Manual   First Owner   23.0 kmpl  1396 CC     90 bhp   \n",
      "998  Individual       Manual   First Owner  20.36 kmpl  1197 CC   78.9 bhp   \n",
      "999  Individual       Manual   First Owner   26.0 kmpl  1498 CC   98.6 bhp   \n",
      "\n",
      "                       torque  seats  \n",
      "995          99.04Nm@ 4500rpm    5.0  \n",
      "996          114.7Nm@ 4000rpm    5.0  \n",
      "997  22.4 kgm at 1750-2750rpm    5.0  \n",
      "998          111.8Nm@ 4000rpm    5.0  \n",
      "999            200Nm@ 1750rpm    5.0  \n"
     ]
    }
   ],
   "source": [
    "# Последние 5 строк тестового датасета\n",
    "print(f'Последние 5 строк датасета: {df_test.tail(5)}')"
   ]
  },
  {
   "cell_type": "code",
   "execution_count": 6,
   "metadata": {},
   "outputs": [
    {
     "name": "stdout",
     "output_type": "stream",
     "text": [
      "name               0\n",
      "year               0\n",
      "selling_price      0\n",
      "km_driven          0\n",
      "fuel               0\n",
      "seller_type        0\n",
      "transmission       0\n",
      "owner              0\n",
      "mileage          202\n",
      "engine           202\n",
      "max_power        196\n",
      "torque           203\n",
      "seats            202\n",
      "dtype: int64\n"
     ]
    }
   ],
   "source": [
    "# Посмотрим пропуски в тренировочном датасете: \n",
    "missing_train = df_train.isnull().sum()\n",
    "print(missing_train)\n"
   ]
  },
  {
   "cell_type": "markdown",
   "metadata": {},
   "source": [
    "Пропущенные значения в тренировочном датасете встречаются в следующих столбцах: mileage, engine, max_power, torque, seats. "
   ]
  },
  {
   "cell_type": "code",
   "execution_count": 7,
   "metadata": {},
   "outputs": [
    {
     "name": "stdout",
     "output_type": "stream",
     "text": [
      "<class 'pandas.core.frame.DataFrame'>\n",
      "RangeIndex: 6999 entries, 0 to 6998\n",
      "Data columns (total 13 columns):\n",
      " #   Column         Non-Null Count  Dtype  \n",
      "---  ------         --------------  -----  \n",
      " 0   name           6999 non-null   object \n",
      " 1   year           6999 non-null   int64  \n",
      " 2   selling_price  6999 non-null   int64  \n",
      " 3   km_driven      6999 non-null   int64  \n",
      " 4   fuel           6999 non-null   object \n",
      " 5   seller_type    6999 non-null   object \n",
      " 6   transmission   6999 non-null   object \n",
      " 7   owner          6999 non-null   object \n",
      " 8   mileage        6797 non-null   object \n",
      " 9   engine         6797 non-null   object \n",
      " 10  max_power      6803 non-null   object \n",
      " 11  torque         6796 non-null   object \n",
      " 12  seats          6797 non-null   float64\n",
      "dtypes: float64(1), int64(3), object(9)\n",
      "memory usage: 711.0+ KB\n"
     ]
    }
   ],
   "source": [
    "# Определим тип этих переменных: \n",
    "\n",
    "df_train.info()"
   ]
  },
  {
   "cell_type": "markdown",
   "metadata": {},
   "source": [
    "На данном этапе мы видим, что переменные, по которым далее мы установим наличие пропусков (mileage, engine, max_power, torque) являются типом object. Лишь одна переменная, по которой мы установим наличие пропусков (seats), имеет тип float. Пропуски по первой группе переменных мы заменим пустыми строками, а пропуски по seats мы заменим в действительно медианой, как указано в задании. "
   ]
  },
  {
   "cell_type": "code",
   "execution_count": 8,
   "metadata": {},
   "outputs": [
    {
     "name": "stdout",
     "output_type": "stream",
     "text": [
      "name              0\n",
      "year              0\n",
      "selling_price     0\n",
      "km_driven         0\n",
      "fuel              0\n",
      "seller_type       0\n",
      "transmission      0\n",
      "owner             0\n",
      "mileage          19\n",
      "engine           19\n",
      "max_power        19\n",
      "torque           19\n",
      "seats            19\n",
      "dtype: int64\n"
     ]
    }
   ],
   "source": [
    "# Посмотрим пропуски в тестовом датасете: \n",
    "missing_test = df_test.isnull().sum()\n",
    "print(missing_test)"
   ]
  },
  {
   "cell_type": "code",
   "execution_count": 9,
   "metadata": {},
   "outputs": [
    {
     "name": "stdout",
     "output_type": "stream",
     "text": [
      "985\n",
      "62\n"
     ]
    }
   ],
   "source": [
    "# Посмотрим на явные дубликаты в тренировочном датасете - их 985: \n",
    "duplicates_train = df_train.duplicated().sum()\n",
    "print(duplicates_train)\n",
    "\n",
    "# Посмотрим на явные дубликаты в тестовом датасете - их 62: \n",
    "duplicates_test = df_test.duplicated().sum()\n",
    "print(duplicates_test)"
   ]
  },
  {
   "cell_type": "markdown",
   "metadata": {},
   "source": [
    "Пропущенные значения в тестовом датасете встречаются в следующих столбцах: mileage, engine, max_power, torque, seats. "
   ]
  },
  {
   "cell_type": "markdown",
   "metadata": {
    "id": "KF6L8XVejuEe"
   },
   "source": [
    "Мы обнаружили пропуски. Давайте избавимся от них.\n",
    "\n",
    "- [ ] Заполните пропуски в столбцах медианами. Убедитесь, что после заполнения пропусков не осталось. Заполнение пропусков проводите для обоих наборов данных, если необходимо\n",
    "\n",
    "**Важно!**\n",
    "\n",
    "При заполнении пропусков и в тестовом, и тренировочном наборах данных вы определяетесь со стратегией предобработки пропущенных значений при потенциальной работе модели.\n",
    "\n",
    "Так как в теоретическом случае вы не имеете доступа к тестовой выборке, то заполняемой значение (у нас — медиана) вы считаете про *тренировочному* набору данных и им же заполняете *тестовый*."
   ]
  },
  {
   "cell_type": "code",
   "execution_count": 10,
   "metadata": {
    "id": "-ayq_I9Pk68k"
   },
   "outputs": [],
   "source": [
    "# your code here\n",
    "from sklearn import impute\n",
    "# Заполним пропуски в тренировочном наборе данных: \n",
    "\n",
    "cat_features_mask = (df_train.dtypes == \"object\").values\n",
    "\n",
    "X_train = df_train[df_train.columns[~cat_features_mask]]\n",
    "mis_replacer = impute.SimpleImputer(strategy=\"median\")\n",
    "X_no_mis_real = pd.DataFrame(data=mis_replacer.fit_transform(X_train), columns=X_train.columns)\n",
    "\n",
    "X_cat_train = df_train[df_train.columns[cat_features_mask]].fillna(\"\")\n",
    "X_cat_train.reset_index(drop=True, inplace=True)\n",
    "\n",
    "X_no_mis = pd.concat([X_no_mis_real, X_cat_train], axis=1)"
   ]
  },
  {
   "cell_type": "code",
   "execution_count": 11,
   "metadata": {},
   "outputs": [
    {
     "data": {
      "text/plain": [
       "((6999, 4), (6999, 9), (6999, 13))"
      ]
     },
     "execution_count": 11,
     "metadata": {},
     "output_type": "execute_result"
    }
   ],
   "source": [
    "X_no_mis_real.shape, X_cat_train.shape, X_no_mis.shape"
   ]
  },
  {
   "cell_type": "markdown",
   "metadata": {},
   "source": [
    "Проверим то, насколько мы действительно избавились от пропусков:"
   ]
  },
  {
   "cell_type": "code",
   "execution_count": 73,
   "metadata": {},
   "outputs": [
    {
     "name": "stdout",
     "output_type": "stream",
     "text": [
      "year             0\n",
      "selling_price    0\n",
      "km_driven        0\n",
      "seats            0\n",
      "dtype: int64\n"
     ]
    }
   ],
   "source": [
    "# Проверка для вещественнозначных признаков, где пропуски заполнялись медианой: \n",
    "check_1 = X_no_mis_real.isnull().sum()\n",
    "print(check_1)"
   ]
  },
  {
   "cell_type": "code",
   "execution_count": 74,
   "metadata": {},
   "outputs": [
    {
     "name": "stdout",
     "output_type": "stream",
     "text": [
      "name            0\n",
      "fuel            0\n",
      "seller_type     0\n",
      "transmission    0\n",
      "owner           0\n",
      "mileage         0\n",
      "engine          0\n",
      "max_power       0\n",
      "torque          0\n",
      "dtype: int64\n"
     ]
    }
   ],
   "source": [
    "# Проверка для категориальных признаков, где пропуски заполнялись пустыми строками: \n",
    "check_2 = X_cat_train.isnull().sum()\n",
    "print(check_2)"
   ]
  },
  {
   "cell_type": "markdown",
   "metadata": {},
   "source": [
    "Заполним пропуски в тестовом наборе данных. для seats мы будем использовать медиану значения seats из тренировочной выборки, а по причине того, что иные столбцы с пропущенными значениями являются вещественными, их мы заполним также просто нулями\n"
   ]
  },
  {
   "cell_type": "code",
   "execution_count": 14,
   "metadata": {},
   "outputs": [],
   "source": [
    "# Заполняем пропуски в тестовом наборе данных: \n",
    "\n",
    "median_seats = df_train['seats'].median()\n",
    "X_test = df_test['seats'].fillna(median_seats)\n",
    "\n",
    "# Заполнение пропусков в категориальных столбцах\n",
    "X_cat_test = df_test[df_test.columns[cat_features_mask]].fillna(\"\")\n",
    "X_cat_test.reset_index(drop=True, inplace=True)\n",
    "\n",
    "# Объединение обработанных столбцов\n",
    "X_no_mis_test = pd.concat([X_test, X_cat_test], axis=1)\n"
   ]
  },
  {
   "cell_type": "code",
   "execution_count": 15,
   "metadata": {},
   "outputs": [
    {
     "name": "stdout",
     "output_type": "stream",
     "text": [
      "0\n"
     ]
    }
   ],
   "source": [
    "# Проверка для вещественнозначных признаков, где пропуски заполнялись медианой от тренировочного датасета: \n",
    "check_3 = X_test.isnull().sum()\n",
    "print(check_3)"
   ]
  },
  {
   "cell_type": "code",
   "execution_count": 16,
   "metadata": {},
   "outputs": [
    {
     "name": "stdout",
     "output_type": "stream",
     "text": [
      "name            0\n",
      "fuel            0\n",
      "seller_type     0\n",
      "transmission    0\n",
      "owner           0\n",
      "mileage         0\n",
      "engine          0\n",
      "max_power       0\n",
      "torque          0\n",
      "dtype: int64\n"
     ]
    }
   ],
   "source": [
    "# Проверка для категориальных признаков, где пропуски заполнялись пустыми строками: \n",
    "check_4 = X_cat_test.isnull().sum()\n",
    "print(check_4)"
   ]
  },
  {
   "cell_type": "markdown",
   "metadata": {
    "id": "VE_ecCD7hRFV"
   },
   "source": [
    "### **Задание 2 (1.5 балла)**\n",
    "\n",
    "- [ ] Посмотрите, есть ли в трейне объекты с одинаковым признаковым описанием (целевую переменную следует исключить). Если есть, то сколько? (0.1 балла)\n",
    "- [ ] Отобразите такие объекты (0.15 балла)\n",
    "- [ ] Удалите повторяющиеся строки. Если при одинаковом признаковом описании цены на автомобили отличаются, то оставьте первую строку по этому автомобилю (0.15 балла)\n",
    "- [ ]  Обновите индексы строк таким образом, чтобы они шли от 0 без пропусков (0.1 балла)\n"
   ]
  },
  {
   "cell_type": "code",
   "execution_count": 17,
   "metadata": {
    "id": "SkyrBlHWiGY6"
   },
   "outputs": [
    {
     "name": "stdout",
     "output_type": "stream",
     "text": [
      "Строки с дубликатами по признакам (исключая целевую переменную):\n",
      "                                          name  year  selling_price  \\\n",
      "254                   Hyundai Grand i10 Sportz  2017         450000   \n",
      "258                           Maruti Swift VXI  2012         330000   \n",
      "268                     Maruti Swift Dzire VXI  2014         400000   \n",
      "324   Jaguar XE 2016-2019 2.0L Diesel Prestige  2017        2625000   \n",
      "325                              Lexus ES 300h  2019        5150000   \n",
      "...                                        ...   ...            ...   \n",
      "6947                    Chevrolet Spark 1.0 LS  2010         140000   \n",
      "6984  Ford Freestyle Titanium Plus Diesel BSIV  2018         746000   \n",
      "6989                    Maruti Swift Dzire VDI  2015         625000   \n",
      "6997                           Tata Indigo CR4  2013         290000   \n",
      "6998                           Tata Indigo CR4  2013         290000   \n",
      "\n",
      "      km_driven    fuel seller_type transmission         owner     mileage  \\\n",
      "254       35000  Petrol  Individual       Manual   First Owner   18.9 kmpl   \n",
      "258       50000  Petrol  Individual       Manual  Second Owner   18.6 kmpl   \n",
      "268       70000  Petrol  Individual       Manual  Second Owner   19.1 kmpl   \n",
      "324        9000  Diesel      Dealer    Automatic   First Owner   13.6 kmpl   \n",
      "325       20000  Petrol      Dealer    Automatic   First Owner  22.37 kmpl   \n",
      "...         ...     ...         ...          ...           ...         ...   \n",
      "6947      60000  Petrol  Individual       Manual  Second Owner   18.0 kmpl   \n",
      "6984      24000  Diesel  Individual       Manual   First Owner   24.4 kmpl   \n",
      "6989      50000  Diesel  Individual       Manual   First Owner  26.59 kmpl   \n",
      "6997      25000  Diesel  Individual       Manual   First Owner  23.57 kmpl   \n",
      "6998      25000  Diesel  Individual       Manual   First Owner  23.57 kmpl   \n",
      "\n",
      "       engine   max_power               torque  seats  \n",
      "254   1197 CC      82 bhp       114Nm@ 4000rpm    5.0  \n",
      "258   1197 CC    85.8 bhp       114Nm@ 4000rpm    5.0  \n",
      "268   1197 CC    85.8 bhp       114Nm@ 4000rpm    5.0  \n",
      "324   1999 CC     177 bhp  430Nm@ 1750-2500rpm    5.0  \n",
      "325   2487 CC  214.56 bhp  202Nm@ 3600-5200rpm    5.0  \n",
      "...       ...         ...                  ...    ...  \n",
      "6947   995 CC      62 bhp      90.3Nm@ 4200rpm    5.0  \n",
      "6984  1498 CC   98.63 bhp  215Nm@ 1750-3000rpm    5.0  \n",
      "6989  1248 CC      74 bhp       190Nm@ 2000rpm    5.0  \n",
      "6997  1396 CC      70 bhp  140Nm@ 1800-3000rpm    5.0  \n",
      "6998  1396 CC      70 bhp  140Nm@ 1800-3000rpm    5.0  \n",
      "\n",
      "[1159 rows x 13 columns]\n"
     ]
    }
   ],
   "source": [
    "# Отобразим объекты с одинаковыми признаковыми описаниями: \n",
    "\n",
    "duplicates = df_train.duplicated(subset=df_train.columns.difference(['selling_price']))\n",
    "\n",
    "duplicates_rows = df_train[duplicates]\n",
    "print(\"Строки с дубликатами по признакам (исключая целевую переменную):\")\n",
    "print(duplicates_rows)"
   ]
  },
  {
   "cell_type": "code",
   "execution_count": 18,
   "metadata": {},
   "outputs": [
    {
     "data": {
      "text/plain": [
       "1159"
      ]
     },
     "execution_count": 18,
     "metadata": {},
     "output_type": "execute_result"
    }
   ],
   "source": [
    "# Укажем, сколько всего таких объектов: \n",
    "\n",
    "len(df_train[duplicates])"
   ]
  },
  {
   "cell_type": "code",
   "execution_count": 19,
   "metadata": {},
   "outputs": [
    {
     "name": "stdout",
     "output_type": "stream",
     "text": [
      "                                   name  year  selling_price  km_driven  \\\n",
      "0                Maruti Swift Dzire VDI  2014         450000     145500   \n",
      "1          Skoda Rapid 1.5 TDI Ambition  2014         370000     120000   \n",
      "2             Hyundai i20 Sportz Diesel  2010         225000     127000   \n",
      "3                Maruti Swift VXI BSIII  2007         130000     120000   \n",
      "4         Hyundai Xcent 1.2 VTVT E Plus  2017         440000      45000   \n",
      "...                                 ...   ...            ...        ...   \n",
      "6992            Hyundai Santro Xing GLS  2008         120000     191000   \n",
      "6993  Maruti Wagon R VXI BS IV with ABS  2013         260000      50000   \n",
      "6994                  Hyundai i20 Magna  2013         320000     110000   \n",
      "6995              Hyundai Verna CRDi SX  2007         135000     119000   \n",
      "6996             Maruti Swift Dzire ZDi  2009         382000     120000   \n",
      "\n",
      "        fuel seller_type transmission                 owner     mileage  \\\n",
      "0     Diesel  Individual       Manual           First Owner   23.4 kmpl   \n",
      "1     Diesel  Individual       Manual          Second Owner  21.14 kmpl   \n",
      "2     Diesel  Individual       Manual           First Owner   23.0 kmpl   \n",
      "3     Petrol  Individual       Manual           First Owner   16.1 kmpl   \n",
      "4     Petrol  Individual       Manual           First Owner  20.14 kmpl   \n",
      "...      ...         ...          ...                   ...         ...   \n",
      "6992  Petrol  Individual       Manual           First Owner  17.92 kmpl   \n",
      "6993  Petrol  Individual       Manual          Second Owner   18.9 kmpl   \n",
      "6994  Petrol  Individual       Manual           First Owner   18.5 kmpl   \n",
      "6995  Diesel  Individual       Manual  Fourth & Above Owner   16.8 kmpl   \n",
      "6996  Diesel  Individual       Manual           First Owner   19.3 kmpl   \n",
      "\n",
      "       engine   max_power                     torque  seats  \n",
      "0     1248 CC      74 bhp             190Nm@ 2000rpm    5.0  \n",
      "1     1498 CC  103.52 bhp        250Nm@ 1500-2500rpm    5.0  \n",
      "2     1396 CC      90 bhp   22.4 kgm at 1750-2750rpm    5.0  \n",
      "3     1298 CC    88.2 bhp      11.5@ 4,500(kgm@ rpm)    5.0  \n",
      "4     1197 CC   81.86 bhp          113.75nm@ 4000rpm    5.0  \n",
      "...       ...         ...                        ...    ...  \n",
      "6992  1086 CC    62.1 bhp            96.1Nm@ 3000rpm    5.0  \n",
      "6993   998 CC    67.1 bhp              90Nm@ 3500rpm    5.0  \n",
      "6994  1197 CC   82.85 bhp           113.7Nm@ 4000rpm    5.0  \n",
      "6995  1493 CC     110 bhp  24@ 1,900-2,750(kgm@ rpm)    5.0  \n",
      "6996  1248 CC    73.9 bhp             190Nm@ 2000rpm    5.0  \n",
      "\n",
      "[5840 rows x 13 columns]\n"
     ]
    }
   ],
   "source": [
    "# Удалим повторяющиеся строки. Если при одинаковом признаковом описании цены на автомобили \n",
    "# отличаются, то оставим первую строку по этому автомобилю\n",
    "\n",
    "data_cleaned = df_train.drop_duplicates(subset=df_train.columns.difference(['selling_price']), keep='first')\n",
    "\n",
    "print(data_cleaned)"
   ]
  },
  {
   "cell_type": "code",
   "execution_count": 20,
   "metadata": {
    "id": "955cO__niGyz"
   },
   "outputs": [],
   "source": [
    "assert data_cleaned.shape == (5840, 13)"
   ]
  },
  {
   "cell_type": "code",
   "execution_count": 21,
   "metadata": {},
   "outputs": [
    {
     "data": {
      "text/html": [
       "<div>\n",
       "<style scoped>\n",
       "    .dataframe tbody tr th:only-of-type {\n",
       "        vertical-align: middle;\n",
       "    }\n",
       "\n",
       "    .dataframe tbody tr th {\n",
       "        vertical-align: top;\n",
       "    }\n",
       "\n",
       "    .dataframe thead th {\n",
       "        text-align: right;\n",
       "    }\n",
       "</style>\n",
       "<table border=\"1\" class=\"dataframe\">\n",
       "  <thead>\n",
       "    <tr style=\"text-align: right;\">\n",
       "      <th></th>\n",
       "      <th>name</th>\n",
       "      <th>year</th>\n",
       "      <th>selling_price</th>\n",
       "      <th>km_driven</th>\n",
       "      <th>fuel</th>\n",
       "      <th>seller_type</th>\n",
       "      <th>transmission</th>\n",
       "      <th>owner</th>\n",
       "      <th>mileage</th>\n",
       "      <th>engine</th>\n",
       "      <th>max_power</th>\n",
       "      <th>torque</th>\n",
       "      <th>seats</th>\n",
       "    </tr>\n",
       "  </thead>\n",
       "  <tbody>\n",
       "    <tr>\n",
       "      <th>5835</th>\n",
       "      <td>Hyundai Santro Xing GLS</td>\n",
       "      <td>2008</td>\n",
       "      <td>120000</td>\n",
       "      <td>191000</td>\n",
       "      <td>Petrol</td>\n",
       "      <td>Individual</td>\n",
       "      <td>Manual</td>\n",
       "      <td>First Owner</td>\n",
       "      <td>17.92 kmpl</td>\n",
       "      <td>1086 CC</td>\n",
       "      <td>62.1 bhp</td>\n",
       "      <td>96.1Nm@ 3000rpm</td>\n",
       "      <td>5.0</td>\n",
       "    </tr>\n",
       "    <tr>\n",
       "      <th>5836</th>\n",
       "      <td>Maruti Wagon R VXI BS IV with ABS</td>\n",
       "      <td>2013</td>\n",
       "      <td>260000</td>\n",
       "      <td>50000</td>\n",
       "      <td>Petrol</td>\n",
       "      <td>Individual</td>\n",
       "      <td>Manual</td>\n",
       "      <td>Second Owner</td>\n",
       "      <td>18.9 kmpl</td>\n",
       "      <td>998 CC</td>\n",
       "      <td>67.1 bhp</td>\n",
       "      <td>90Nm@ 3500rpm</td>\n",
       "      <td>5.0</td>\n",
       "    </tr>\n",
       "    <tr>\n",
       "      <th>5837</th>\n",
       "      <td>Hyundai i20 Magna</td>\n",
       "      <td>2013</td>\n",
       "      <td>320000</td>\n",
       "      <td>110000</td>\n",
       "      <td>Petrol</td>\n",
       "      <td>Individual</td>\n",
       "      <td>Manual</td>\n",
       "      <td>First Owner</td>\n",
       "      <td>18.5 kmpl</td>\n",
       "      <td>1197 CC</td>\n",
       "      <td>82.85 bhp</td>\n",
       "      <td>113.7Nm@ 4000rpm</td>\n",
       "      <td>5.0</td>\n",
       "    </tr>\n",
       "    <tr>\n",
       "      <th>5838</th>\n",
       "      <td>Hyundai Verna CRDi SX</td>\n",
       "      <td>2007</td>\n",
       "      <td>135000</td>\n",
       "      <td>119000</td>\n",
       "      <td>Diesel</td>\n",
       "      <td>Individual</td>\n",
       "      <td>Manual</td>\n",
       "      <td>Fourth &amp; Above Owner</td>\n",
       "      <td>16.8 kmpl</td>\n",
       "      <td>1493 CC</td>\n",
       "      <td>110 bhp</td>\n",
       "      <td>24@ 1,900-2,750(kgm@ rpm)</td>\n",
       "      <td>5.0</td>\n",
       "    </tr>\n",
       "    <tr>\n",
       "      <th>5839</th>\n",
       "      <td>Maruti Swift Dzire ZDi</td>\n",
       "      <td>2009</td>\n",
       "      <td>382000</td>\n",
       "      <td>120000</td>\n",
       "      <td>Diesel</td>\n",
       "      <td>Individual</td>\n",
       "      <td>Manual</td>\n",
       "      <td>First Owner</td>\n",
       "      <td>19.3 kmpl</td>\n",
       "      <td>1248 CC</td>\n",
       "      <td>73.9 bhp</td>\n",
       "      <td>190Nm@ 2000rpm</td>\n",
       "      <td>5.0</td>\n",
       "    </tr>\n",
       "  </tbody>\n",
       "</table>\n",
       "</div>"
      ],
      "text/plain": [
       "                                   name  year  selling_price  km_driven  \\\n",
       "5835            Hyundai Santro Xing GLS  2008         120000     191000   \n",
       "5836  Maruti Wagon R VXI BS IV with ABS  2013         260000      50000   \n",
       "5837                  Hyundai i20 Magna  2013         320000     110000   \n",
       "5838              Hyundai Verna CRDi SX  2007         135000     119000   \n",
       "5839             Maruti Swift Dzire ZDi  2009         382000     120000   \n",
       "\n",
       "        fuel seller_type transmission                 owner     mileage  \\\n",
       "5835  Petrol  Individual       Manual           First Owner  17.92 kmpl   \n",
       "5836  Petrol  Individual       Manual          Second Owner   18.9 kmpl   \n",
       "5837  Petrol  Individual       Manual           First Owner   18.5 kmpl   \n",
       "5838  Diesel  Individual       Manual  Fourth & Above Owner   16.8 kmpl   \n",
       "5839  Diesel  Individual       Manual           First Owner   19.3 kmpl   \n",
       "\n",
       "       engine  max_power                     torque  seats  \n",
       "5835  1086 CC   62.1 bhp            96.1Nm@ 3000rpm    5.0  \n",
       "5836   998 CC   67.1 bhp              90Nm@ 3500rpm    5.0  \n",
       "5837  1197 CC  82.85 bhp           113.7Nm@ 4000rpm    5.0  \n",
       "5838  1493 CC    110 bhp  24@ 1,900-2,750(kgm@ rpm)    5.0  \n",
       "5839  1248 CC   73.9 bhp             190Nm@ 2000rpm    5.0  "
      ]
     },
     "execution_count": 21,
     "metadata": {},
     "output_type": "execute_result"
    }
   ],
   "source": [
    "# Обновим индексы таким образом, чтобы они шли от нуля и без пропусков \n",
    "data_cleaned.reset_index(drop=True, inplace=True)\n",
    "\n",
    "data_cleaned.tail()\n"
   ]
  },
  {
   "cell_type": "markdown",
   "metadata": {
    "id": "sam1Pzn-iU86"
   },
   "source": [
    "Отлично! Мы избавились от маленьких и явных проблем. Теперь перейдем к более сложным недостаткам полученной таблицы.\n",
    "\n",
    "### **Задание 3 (0.75 балла)**\n",
    "\n",
    "Вы могли заметить, что с признаками ``mileage, engine, max_power и torque`` всё не очень хорошо. Они распознаются как строки (можно убедиться в этом, вызвав `data.dtypes`). Однако эти переменные не являются категориальными — они — числа. Соответственно, нужно привести их к числовому виду.\n",
    "\n",
    "**Задача :**\n",
    "* [ ] Уберите единицы измерения для признаков ``mileage, engine, max_power``.\n",
    "* [ ] Приведите тип данных к ``float``.\n",
    "* [ ] Удалите столбец ``torque``\n",
    "\n",
    "\n",
    "**Важно**\n",
    "- Все действия нужно производить над обоими датасетами — `train` и `test`.\n",
    "- Стобец ``torque`` мы удаляем для простоты. В идеальном случае, его также стоило бы предобработать."
   ]
  },
  {
   "cell_type": "code",
   "execution_count": 22,
   "metadata": {
    "id": "Mi1RSmFjlAm7"
   },
   "outputs": [
    {
     "data": {
      "text/plain": [
       "array(['23.4 kmpl', '21.14 kmpl', '23.0 kmpl', '16.1 kmpl', '20.14 kmpl',\n",
       "       '17.3 km/kg', '23.59 kmpl', '20.0 kmpl', '19.01 kmpl', '17.3 kmpl',\n",
       "       '19.3 kmpl', nan, '18.9 kmpl', '18.15 kmpl', '19.7 kmpl',\n",
       "       '22.54 kmpl', '21.0 kmpl', '25.5 kmpl', '26.59 kmpl', '21.5 kmpl',\n",
       "       '21.4 kmpl', '24.7 kmpl', '18.2 kmpl', '16.8 kmpl', '24.3 kmpl',\n",
       "       '14.0 kmpl', '33.44 km/kg', '23.95 kmpl', '17.0 kmpl',\n",
       "       '20.63 kmpl', '13.93 kmpl', '16.0 kmpl', '17.8 kmpl', '12.55 kmpl',\n",
       "       '12.99 kmpl', '14.8 kmpl', '13.5 kmpl', '26.0 kmpl', '27.3 kmpl',\n",
       "       '11.36 kmpl', '17.68 kmpl', '18.53 kmpl', '14.84 kmpl',\n",
       "       '21.12 kmpl', '20.36 kmpl', '21.27 kmpl', '18.16 kmpl',\n",
       "       '22.0 kmpl', '25.1 kmpl', '20.51 kmpl', '21.66 kmpl', '25.2 kmpl',\n",
       "       '22.9 kmpl', '16.02 kmpl', '20.54 kmpl', '22.77 kmpl',\n",
       "       '15.71 kmpl', '23.1 kmpl', '19.02 kmpl', '19.81 kmpl',\n",
       "       '26.2 km/kg', '16.47 kmpl', '15.04 kmpl', '18.5 kmpl', '19.1 kmpl',\n",
       "       '21.79 kmpl', '18.8 kmpl', '21.21 kmpl', '11.79 kmpl', '19.0 kmpl',\n",
       "       '14.3 kmpl', '15.1 kmpl', '19.09 kmpl', '22.32 kmpl', '21.9 kmpl',\n",
       "       '14.53 kmpl', '21.63 kmpl', '20.85 kmpl', '20.45 kmpl',\n",
       "       '19.67 kmpl', '23.01 kmpl', '17.92 kmpl', '20.77 kmpl',\n",
       "       '17.01 kmpl', '22.37 kmpl', '19.33 kmpl', '12.83 kmpl',\n",
       "       '22.48 kmpl', '16.78 kmpl', '14.67 kmpl', '15.0 kmpl',\n",
       "       '13.96 kmpl', '14.28 kmpl', '18.0 kmpl', '12.07 kmpl',\n",
       "       '26.21 kmpl', '10.8 kmpl', '13.6 kmpl', '16.3 kmpl', '14.74 kmpl',\n",
       "       '15.6 kmpl', '19.56 kmpl', '22.69 kmpl', '19.16 kmpl',\n",
       "       '18.12 kmpl', '12.1 kmpl', '17.5 kmpl', '42.0 kmpl', '20.4 kmpl',\n",
       "       '18.6 kmpl', '21.1 kmpl', '19.44 kmpl', '13.0 kmpl', '21.43 kmpl',\n",
       "       '22.95 kmpl', '15.3 kmpl', '28.09 kmpl', '20.3 kmpl', '17.4 kmpl',\n",
       "       '26.6 km/kg', '17.6 kmpl', '28.4 kmpl', '14.1 kmpl', '22.74 kmpl',\n",
       "       '17.57 kmpl', '16.95 kmpl', '17.21 kmpl', '25.17 kmpl',\n",
       "       '15.37 kmpl', '13.2 kmpl', '24.52 kmpl', '14.2 kmpl', '19.4 kmpl',\n",
       "       '26.8 kmpl', '25.4 kmpl', '27.28 kmpl', '17.97 kmpl', '12.8 kmpl',\n",
       "       '16.55 kmpl', '12.05 kmpl', '21.02 kmpl', '17.9 kmpl',\n",
       "       '15.96 kmpl', '17.1 kmpl', '17.19 kmpl', '21.01 kmpl', '24.0 kmpl',\n",
       "       '25.6 kmpl', '21.38 kmpl', '23.84 kmpl', '23.08 kmpl',\n",
       "       '14.24 kmpl', '20.71 kmpl', '15.64 kmpl', '14.5 kmpl',\n",
       "       '16.34 kmpl', '27.39 kmpl', '11.1 kmpl', '20.88 km/kg',\n",
       "       '20.92 kmpl', '23.8 kmpl', '24.4 kmpl', '15.29 kmpl', '21.19 kmpl',\n",
       "       '22.5 kmpl', '19.6 kmpl', '23.65 kmpl', '11.5 kmpl', '19.49 kmpl',\n",
       "       '16.2 kmpl', '23.5 kmpl', '16.6 kmpl', '23.9 kmpl', '25.32 kmpl',\n",
       "       '20.8 kmpl', '27.62 kmpl', '12.9 kmpl', '25.44 kmpl', '17.88 kmpl',\n",
       "       '17.2 kmpl', '15.42 kmpl', '19.68 kmpl', '18.7 kmpl', '15.4 kmpl',\n",
       "       '17.7 kmpl', '19.34 kmpl', '22.7 kmpl', '22.71 kmpl', '13.7 kmpl',\n",
       "       '12.2 kmpl', '18.49 kmpl', '9.0 kmpl', '0.0 kmpl', '13.58 kmpl',\n",
       "       '10.1 kmpl', '20.5 kmpl', '25.0 kmpl', '10.5 kmpl', '22.07 kmpl',\n",
       "       '15.26 kmpl', '20.62 kmpl', '27.4 kmpl', '25.8 kmpl', '23.2 kmpl',\n",
       "       '18.4 kmpl', '30.46 km/kg', '14.02 kmpl', '11.0 kmpl', '20.6 kmpl',\n",
       "       '22.3 kmpl', '20.2 kmpl', '22.1 kmpl', '19.87 kmpl', '13.01 kmpl',\n",
       "       '18.06 kmpl', '13.9 kmpl', '16.52 kmpl', '13.55 kmpl', '24.2 kmpl',\n",
       "       '25.83 kmpl', '11.2 kmpl', '18.1 kmpl', '17.09 kmpl', '21.03 kmpl',\n",
       "       '21.94 km/kg', '13.87 kmpl', '19.98 kmpl', '20.52 kmpl',\n",
       "       '23.57 kmpl', '11.57 kmpl', '11.7 kmpl', '17.43 kmpl',\n",
       "       '13.68 kmpl', '11.18 kmpl', '20.89 kmpl', '19.62 kmpl',\n",
       "       '21.7 kmpl', '14.9 kmpl', '10.91 kmpl', '19.5 kmpl', '15.7 kmpl',\n",
       "       '15.85 kmpl', '9.5 kmpl', '20.7 kmpl', '14.23 kmpl', '16.5 kmpl',\n",
       "       '17.36 kmpl', '17.45 kmpl', '12.6 kmpl', '16.36 kmpl', '16.9 kmpl',\n",
       "       '19.2 kmpl', '16.96 kmpl', '22.15 kmpl', '18.78 kmpl',\n",
       "       '19.61 kmpl', '17.71 kmpl', '18.3 kmpl', '19.12 kmpl',\n",
       "       '19.72 kmpl', '12.0 kmpl', '23.03 kmpl', '11.07 kmpl', '15.9 kmpl',\n",
       "       '17.67 kmpl', '13.1 kmpl', '11.4 kmpl', '13.45 km/kg',\n",
       "       '14.95 kmpl', '21.64 kmpl', '24.8 kmpl', '15.73 kmpl', '15.8 kmpl',\n",
       "       '15.11 kmpl', '18.88 kmpl', '12.7 kmpl', '21.2 kmpl', '20.38 kmpl',\n",
       "       '21.56 kmpl', '13.22 kmpl', '14.49 kmpl', '15.05 kmpl',\n",
       "       '20.73 kmpl', '23.26 kmpl', '15.41 kmpl', '13.8 kmpl',\n",
       "       '22.27 kmpl', '32.52 km/kg', '14.66 kmpl', '12.12 kmpl',\n",
       "       '16.84 kmpl', '14.09 kmpl', '14.7 kmpl', '20.46 kmpl', '13.4 kmpl',\n",
       "       '13.49 kmpl', '11.88 km/kg', '14.6 kmpl', '10.75 kmpl',\n",
       "       '15.5 kmpl', '24.5 kmpl', '11.74 kmpl', '16.07 kmpl', '15.63 kmpl',\n",
       "       '26.3 km/kg', '23.7 km/kg', '25.47 kmpl', '23.3 kmpl', '11.9 kmpl',\n",
       "       '13.38 kmpl', '20.86 kmpl', '19.2 km/kg', '10.9 kmpl',\n",
       "       '18.25 kmpl', '15.2 kmpl', '20.37 kmpl', '17.8 km/kg',\n",
       "       '22.05 kmpl', '21.8 kmpl', '11.96 kmpl', '24.04 kmpl',\n",
       "       '19.69 kmpl', '13.73 kmpl', '21.04 kmpl', '25.01 kmpl',\n",
       "       '10.93 kmpl', '10.9 km/kg', '24.29 kmpl', '13.44 kmpl',\n",
       "       '19.08 kmpl', '20.34 kmpl', '11.68 kmpl', '12.5 kmpl', '12.3 kmpl',\n",
       "       '23.87 kmpl', '16.38 kmpl', '17.42 kmpl', '10.0 kmpl',\n",
       "       '18.24 kmpl', '10.71 kmpl', '14.07 kmpl', '19.59 kmpl',\n",
       "       '16.7 kmpl', '19.83 kmpl', '21.76 kmpl', '16.05 kmpl',\n",
       "       '20.28 kmpl', '16.25 kmpl', '18.48 kmpl', '13.2 km/kg',\n",
       "       '21.4 km/kg', '14.99 kmpl', '18.76 kmpl', '16.4 kmpl',\n",
       "       '19.64 kmpl', '14.94 kmpl', '16.6 km/kg', '16.0 km/kg',\n",
       "       '17.11 kmpl', '14.4 kmpl', '22.8 km/kg', '33.0 km/kg', '12.4 kmpl',\n",
       "       '18.44 kmpl', '16.09 kmpl', '19.0 km/kg', '20.65 kmpl',\n",
       "       '12.62 kmpl', '21.13 kmpl', '26.1 kmpl', '15.17 kmpl',\n",
       "       '21.73 kmpl', '21.72 kmpl', '13.24 kmpl', '14.4 km/kg',\n",
       "       '21.49 kmpl', '14.62 kmpl', '26.83 km/kg', '11.45 kmpl',\n",
       "       '12.08 kmpl', '15.74 kmpl', '14.81 kmpl', '11.3 kmpl',\n",
       "       '15.1 km/kg', '14.21 kmpl', '11.72 kmpl', '16.51 kmpl'],\n",
       "      dtype=object)"
      ]
     },
     "execution_count": 22,
     "metadata": {},
     "output_type": "execute_result"
    }
   ],
   "source": [
    "# your code here\n",
    "\n",
    "# Уберем единцы измерения для признака mileage из тренировочного и тестового массивов: \n",
    "# Сначала посмотрим, как выглядят эти значения: из них видно, что у каждого элемента в конце есть буквенное значение \" kmpl\",\n",
    "# которое и необходимо убрать \n",
    "\n",
    "data_cleaned['mileage'].unique()"
   ]
  },
  {
   "cell_type": "code",
   "execution_count": 54,
   "metadata": {},
   "outputs": [],
   "source": [
    "# Переводим mileage в тип float: \n",
    "import re\n",
    "def convert_mileage(value):\n",
    "    if pd.isna(value):  \n",
    "        return value\n",
    "    \n",
    "    numeric_part = ''.join(filter(lambda x: x.isdigit() or x == '.', value))\n",
    "    return float(numeric_part)\n",
    "\n",
    "data_cleaned['mileage_float'] = data_cleaned['mileage'].apply(convert_mileage)   "
   ]
  },
  {
   "cell_type": "code",
   "execution_count": 53,
   "metadata": {},
   "outputs": [],
   "source": [
    "# Делаем то же самое на тестовой выборке: \n",
    "\n",
    "df_test['mileage_float'] = df_test['mileage'].apply(convert_mileage)"
   ]
  },
  {
   "cell_type": "code",
   "execution_count": 25,
   "metadata": {},
   "outputs": [
    {
     "data": {
      "text/plain": [
       "array(['1248 CC', '1498 CC', '1396 CC', '1298 CC', '1197 CC', '1061 CC',\n",
       "       '796 CC', '1364 CC', '1399 CC', '1461 CC', '993 CC', nan,\n",
       "       '1198 CC', '998 CC', '1591 CC', '2179 CC', '1368 CC', '1497 CC',\n",
       "       '2982 CC', '2494 CC', '2143 CC', '2477 CC', '2755 CC', '1968 CC',\n",
       "       '1196 CC', '1373 CC', '1598 CC', '1998 CC', '1086 CC', '1194 CC',\n",
       "       '1798 CC', '1405 CC', '1582 CC', '999 CC', '2487 CC', '1999 CC',\n",
       "       '2987 CC', '1995 CC', '1451 CC', '1969 CC', '2967 CC', '2497 CC',\n",
       "       '1797 CC', '1991 CC', '2362 CC', '1493 CC', '1341 CC', '1199 CC',\n",
       "       '1794 CC', '1193 CC', '2696 CC', '799 CC', '1495 CC', '1186 CC',\n",
       "       '1047 CC', '2498 CC', '2523 CC', '1120 CC', '624 CC', '1496 CC',\n",
       "       '1984 CC', '2354 CC', '793 CC', '1799 CC', '936 CC', '1956 CC',\n",
       "       '814 CC', '1997 CC', '1948 CC', '2997 CC', '1172 CC', '2489 CC',\n",
       "       '2499 CC', '2609 CC', '2953 CC', '1150 CC', '1994 CC', '1388 CC',\n",
       "       '1462 CC', '2956 CC', '1527 CC', '2199 CC', '995 CC', '1599 CC',\n",
       "       '2993 CC', '1586 CC', '1390 CC', '909 CC', '2393 CC', '3198 CC',\n",
       "       '1499 CC', '3604 CC', '1339 CC', '2092 CC', '1595 CC', '2496 CC',\n",
       "       '1596 CC', '1597 CC', '2596 CC', '2148 CC', '1299 CC', '1590 CC',\n",
       "       '2231 CC', '2694 CC', '2200 CC', '1795 CC', '1896 CC', '1796 CC',\n",
       "       '1422 CC', '1489 CC', '2359 CC', '2197 CC', '2999 CC', '1781 CC',\n",
       "       '2650 CC', '1343 CC', '2446 CC', '3498 CC', '2198 CC', '2776 CC',\n",
       "       '1950 CC'], dtype=object)"
      ]
     },
     "execution_count": 25,
     "metadata": {},
     "output_type": "execute_result"
    }
   ],
   "source": [
    "data_cleaned['engine'].unique()"
   ]
  },
  {
   "cell_type": "code",
   "execution_count": 26,
   "metadata": {},
   "outputs": [
    {
     "name": "stderr",
     "output_type": "stream",
     "text": [
      "/var/folders/mv/z6tk4kf54qx9f5x637st2ykr0000gn/T/ipykernel_9695/2488972893.py:11: SettingWithCopyWarning: \n",
      "A value is trying to be set on a copy of a slice from a DataFrame.\n",
      "Try using .loc[row_indexer,col_indexer] = value instead\n",
      "\n",
      "See the caveats in the documentation: https://pandas.pydata.org/pandas-docs/stable/user_guide/indexing.html#returning-a-view-versus-a-copy\n",
      "  data_cleaned['engine_num'] = data_cleaned['engine'].apply(convert_engine)\n"
     ]
    }
   ],
   "source": [
    "# Преобразуем переменную engine: \n",
    "\n",
    "import re\n",
    "def convert_engine(value):\n",
    "    if pd.isna(value):  \n",
    "        return value\n",
    "    \n",
    "    numeric_part = ''.join(filter(lambda x: x.isdigit() or x == '.', value))\n",
    "    return float(numeric_part)\n",
    "\n",
    "data_cleaned['engine_num'] = data_cleaned['engine'].apply(convert_engine)\n"
   ]
  },
  {
   "cell_type": "code",
   "execution_count": 47,
   "metadata": {},
   "outputs": [],
   "source": [
    "# Делаем то же самое на тестовой выборке: \n",
    "\n",
    "df_test['engine_num'] = df_test['engine'].apply(convert_engine)"
   ]
  },
  {
   "cell_type": "code",
   "execution_count": 28,
   "metadata": {},
   "outputs": [
    {
     "data": {
      "text/plain": [
       "array(['74 bhp', '103.52 bhp', '90 bhp', '88.2 bhp', '81.86 bhp',\n",
       "       '57.5 bhp', '37 bhp', '67.1 bhp', '68.1 bhp', '108.45 bhp',\n",
       "       '60 bhp', '73.9 bhp', nan, '67 bhp', '82 bhp', '46.3 bhp',\n",
       "       '88.73 bhp', '64.1 bhp', '98.6 bhp', '88.8 bhp', '83.1 bhp',\n",
       "       '47.3 bhp', '73.8 bhp', '34.2 bhp', '88.5 bhp', '35 bhp',\n",
       "       '40.3 bhp', '121.3 bhp', '138.03 bhp', '160.77 bhp', '117.3 bhp',\n",
       "       '116.3 bhp', '67.05 bhp', '168.5 bhp', '100 bhp', '120.7 bhp',\n",
       "       '98.63 bhp', '175.56 bhp', '171.5 bhp', '100.6 bhp', '174.33 bhp',\n",
       "       '187.74 bhp', '170 bhp', '78.9 bhp', '88.76 bhp', '86.8 bhp',\n",
       "       '108.495 bhp', '108.62 bhp', '93.7 bhp', '103.6 bhp', '98.59 bhp',\n",
       "       '189 bhp', '67.04 bhp', '68.05 bhp', '58.2 bhp', '82.85 bhp',\n",
       "       '81.80 bhp', '120 bhp', '94.68 bhp', '160 bhp', '155 bhp',\n",
       "       '69.01 bhp', '126.32 bhp', '138.1 bhp', '83.14 bhp', '83.8 bhp',\n",
       "       '126.2 bhp', '62.1 bhp', '86.7 bhp', '188 bhp', '214.56 bhp',\n",
       "       '177 bhp', '148.31 bhp', '254.79 bhp', '190 bhp', '177.46 bhp',\n",
       "       '204 bhp', '141 bhp', '241.4 bhp', '282 bhp', '150 bhp',\n",
       "       '108.5 bhp', '147.5 bhp', '103.5 bhp', '183 bhp', '181.04 bhp',\n",
       "       '157.7 bhp', '164.7 bhp', '91.1 bhp', '400 bhp', '68 bhp',\n",
       "       '81.83 bhp', '75 bhp', '85.8 bhp', '87.2 bhp', '53 bhp', '118 bhp',\n",
       "       '83 bhp', '84 bhp', '58.16 bhp', '147.94 bhp', '74.02 bhp',\n",
       "       '80 bhp', '88.7 bhp', '97.7 bhp', '121.36 bhp', '162 bhp',\n",
       "       '53.3 bhp', '140 bhp', '73 bhp', '94 bhp', '100.57 bhp',\n",
       "       '82.9 bhp', '83.11 bhp', '70 bhp', '153.86 bhp', '121 bhp',\n",
       "       '126.3 bhp', '73.97 bhp', '69 bhp', '99.6 bhp', '102 bhp',\n",
       "       '105 bhp', '63 bhp', '79.4 bhp', '97.9 bhp', '63.1 bhp',\n",
       "       '66.1 bhp', '174.5 bhp', '53.26 bhp', '73.75 bhp', '67.06 bhp',\n",
       "       '64.08 bhp', '37.5 bhp', '189.3 bhp', '158.8 bhp', '110 bhp',\n",
       "       '117.6 bhp', '61.7 bhp', '71.01 bhp', '98.96 bhp', '73.74 bhp',\n",
       "       '147.9 bhp', '71 bhp', '121.4 bhp', '77 bhp', '113.4 bhp',\n",
       "       '47 bhp', '130 bhp', '57.6 bhp', '138 bhp', '52.8 bhp', '53.5 bhp',\n",
       "       '76.8 bhp', '82.4 bhp', '113.42 bhp', '76 bhp', '55.2 bhp',\n",
       "       '53.64 bhp', '84.8 bhp', '0', '56.3 bhp', '83.81 bhp', '218 bhp',\n",
       "       '65 bhp', '92 bhp', '105.5 bhp', '169 bhp', '95 bhp', '112 bhp',\n",
       "       '72.4 bhp', '115 bhp', '152 bhp', '91.2 bhp', '156 bhp',\n",
       "       '74.9 bhp', '105.3 bhp', '78 bhp', '73.94 bhp', '85 bhp',\n",
       "       '118.3 bhp', '72 bhp', '171 bhp', '147.51 bhp', '103.2 bhp',\n",
       "       '58 bhp', '64 bhp', '126.24 bhp', '76.9 bhp', '194.3 bhp',\n",
       "       '62 bhp', '89.84 bhp', '123.7 bhp', '118.35 bhp', '99 bhp',\n",
       "       '241 bhp', '136 bhp', '261.4 bhp', '104.68 bhp', '37.48 bhp',\n",
       "       '104 bhp', '88.50 bhp', '85.80 bhp', '63.12 bhp', '91.7 bhp',\n",
       "       '102.5 bhp', '177.6 bhp', '45 bhp', '147.8 bhp', '184 bhp',\n",
       "       '84.48 bhp', '68.07 bhp', '74.96 bhp', '167.6 bhp', '152.87 bhp',\n",
       "       '112.2 bhp', '83.83 bhp', '197 bhp', '110.4 bhp', '280 bhp',\n",
       "       '104.55 bhp', '103 bhp', '103.3 bhp', '66 bhp', '108.6 bhp',\n",
       "       '165 bhp', '163.7 bhp', '94.93 bhp', '127 bhp', '198.5 bhp',\n",
       "       '179.5 bhp', '120.69 bhp', '138.08 bhp', '187.7 bhp', '80.8 bhp',\n",
       "       '86.79 bhp', '116.6 bhp', '143 bhp', '103.25 bhp', '92.7 bhp',\n",
       "       '88 bhp', '58.33 bhp', '78.8 bhp', '64.4 bhp', '125 bhp',\n",
       "       '139.01 bhp', '254.8 bhp', '181 bhp', '258 bhp', '55.23 bhp',\n",
       "       '265 bhp', '157.75 bhp', '101 bhp', '186 bhp', '187.4 bhp',\n",
       "       '224 bhp', '64.9 bhp', '148 bhp', '35.5 bhp', '89.75 bhp',\n",
       "       '32.8 bhp', '91.72 bhp', '106 bhp', '98.97 bhp', '66.6 bhp',\n",
       "       '86 bhp', '98.82 bhp', '198.25 bhp', '65.3 bhp', '132 bhp',\n",
       "       '174.57 bhp', '178 bhp', '163.2 bhp', '203.2 bhp', '175 bhp',\n",
       "       '57 bhp', '80.84 bhp', '68.4 bhp', '167.67 bhp', '170.63 bhp',\n",
       "       '52 bhp', '149.5 bhp', '270.9 bhp', '48.21 bhp', ' bhp',\n",
       "       '201.1 bhp', '38 bhp', '194.4 bhp', '168.7 bhp', '104.5 bhp',\n",
       "       '103.26 bhp', '116.4 bhp', '93.87 bhp', '80.9 bhp', '272 bhp',\n",
       "       '235 bhp', '167.62 bhp', '170.30 bhp', '139.46 bhp', '158 bhp',\n",
       "       '110.5 bhp', '121.31 bhp', '99.23 bhp', '82.5 bhp', '141.1 bhp',\n",
       "       '100.5 bhp', '38.4 bhp', '197.2 bhp', '161 bhp', '194 bhp',\n",
       "       '122.4 bhp', '134.10 bhp', '123.37 bhp', '60.2 bhp', '134 bhp',\n",
       "       '203 bhp', '177.5 bhp'], dtype=object)"
      ]
     },
     "execution_count": 28,
     "metadata": {},
     "output_type": "execute_result"
    }
   ],
   "source": [
    "data_cleaned['max_power'].unique()"
   ]
  },
  {
   "cell_type": "code",
   "execution_count": 29,
   "metadata": {},
   "outputs": [
    {
     "name": "stderr",
     "output_type": "stream",
     "text": [
      "/var/folders/mv/z6tk4kf54qx9f5x637st2ykr0000gn/T/ipykernel_9695/2814314720.py:13: SettingWithCopyWarning: \n",
      "A value is trying to be set on a copy of a slice from a DataFrame.\n",
      "Try using .loc[row_indexer,col_indexer] = value instead\n",
      "\n",
      "See the caveats in the documentation: https://pandas.pydata.org/pandas-docs/stable/user_guide/indexing.html#returning-a-view-versus-a-copy\n",
      "  data_cleaned['max_power_float'] = data_cleaned['max_power'].apply(clean_and_convert)\n"
     ]
    }
   ],
   "source": [
    "# Преобразуем переменную max_power: \n",
    "\n",
    "import re\n",
    "def clean_and_convert(value):\n",
    "    if pd.isna(value):  \n",
    "        return np.nan\n",
    "    \n",
    "    numeric_part = re.sub(r'[^0-9.]', '', value)\n",
    "    if numeric_part == '':  \n",
    "        return np.nan\n",
    "    return float(numeric_part)\n",
    "\n",
    "data_cleaned['max_power_float'] = data_cleaned['max_power'].apply(clean_and_convert)\n"
   ]
  },
  {
   "cell_type": "code",
   "execution_count": 51,
   "metadata": {},
   "outputs": [],
   "source": [
    "# Делаем то же самое на тестовой выборке: \n",
    "\n",
    "df_test['max_power_float'] = df_test['max_power'].apply(clean_and_convert)"
   ]
  },
  {
   "cell_type": "code",
   "execution_count": 31,
   "metadata": {},
   "outputs": [
    {
     "data": {
      "text/plain": [
       "pandas.core.series.Series"
      ]
     },
     "execution_count": 31,
     "metadata": {},
     "output_type": "execute_result"
    }
   ],
   "source": [
    "type(data_cleaned['mileage'])"
   ]
  },
  {
   "cell_type": "code",
   "execution_count": 55,
   "metadata": {},
   "outputs": [],
   "source": [
    "# И приведем эти данные к типу float: \n",
    "\n",
    "data_cleaned.loc[:, 'mileage_float'] = data_cleaned['mileage_float'].astype(float)\n",
    "data_cleaned.loc[:, 'engine_num'] = data_cleaned['engine_num'].astype(float)\n",
    "data_cleaned.loc[:, 'max_power_float'] = data_cleaned['max_power_float'].astype(float)\n",
    "\n",
    "# И в тестовой выборке тоже: \n",
    "df_test.loc[:, 'mileage_float'] = df_test['mileage_float'].astype(float)\n",
    "df_test.loc[:, 'engine_num'] = df_test['engine_num'].astype(float)\n",
    "df_test.loc[:, 'max_power_float'] = df_test['max_power_float'].astype(float)"
   ]
  },
  {
   "cell_type": "code",
   "execution_count": 56,
   "metadata": {},
   "outputs": [
    {
     "ename": "KeyError",
     "evalue": "\"['torque'] not found in axis\"",
     "output_type": "error",
     "traceback": [
      "\u001b[0;31m---------------------------------------------------------------------------\u001b[0m",
      "\u001b[0;31mKeyError\u001b[0m                                  Traceback (most recent call last)",
      "Cell \u001b[0;32mIn[56], line 2\u001b[0m\n\u001b[1;32m      1\u001b[0m \u001b[38;5;66;03m# И также удалим столбец torque: \u001b[39;00m\n\u001b[0;32m----> 2\u001b[0m data_cleaned \u001b[38;5;241m=\u001b[39m \u001b[43mdata_cleaned\u001b[49m\u001b[38;5;241;43m.\u001b[39;49m\u001b[43mdrop\u001b[49m\u001b[43m(\u001b[49m\u001b[43mcolumns\u001b[49m\u001b[38;5;241;43m=\u001b[39;49m\u001b[43m[\u001b[49m\u001b[38;5;124;43m'\u001b[39;49m\u001b[38;5;124;43mtorque\u001b[39;49m\u001b[38;5;124;43m'\u001b[39;49m\u001b[43m]\u001b[49m\u001b[43m)\u001b[49m\n\u001b[1;32m      3\u001b[0m df_test \u001b[38;5;241m=\u001b[39m df_train\u001b[38;5;241m.\u001b[39mdrop(columns\u001b[38;5;241m=\u001b[39m[\u001b[38;5;124m'\u001b[39m\u001b[38;5;124mtorque\u001b[39m\u001b[38;5;124m'\u001b[39m])\n",
      "File \u001b[0;32m~/Desktop/4 курс/Python/myenv/lib/python3.9/site-packages/pandas/core/frame.py:5581\u001b[0m, in \u001b[0;36mDataFrame.drop\u001b[0;34m(self, labels, axis, index, columns, level, inplace, errors)\u001b[0m\n\u001b[1;32m   5433\u001b[0m \u001b[38;5;28;01mdef\u001b[39;00m \u001b[38;5;21mdrop\u001b[39m(\n\u001b[1;32m   5434\u001b[0m     \u001b[38;5;28mself\u001b[39m,\n\u001b[1;32m   5435\u001b[0m     labels: IndexLabel \u001b[38;5;241m|\u001b[39m \u001b[38;5;28;01mNone\u001b[39;00m \u001b[38;5;241m=\u001b[39m \u001b[38;5;28;01mNone\u001b[39;00m,\n\u001b[0;32m   (...)\u001b[0m\n\u001b[1;32m   5442\u001b[0m     errors: IgnoreRaise \u001b[38;5;241m=\u001b[39m \u001b[38;5;124m\"\u001b[39m\u001b[38;5;124mraise\u001b[39m\u001b[38;5;124m\"\u001b[39m,\n\u001b[1;32m   5443\u001b[0m ) \u001b[38;5;241m-\u001b[39m\u001b[38;5;241m>\u001b[39m DataFrame \u001b[38;5;241m|\u001b[39m \u001b[38;5;28;01mNone\u001b[39;00m:\n\u001b[1;32m   5444\u001b[0m \u001b[38;5;250m    \u001b[39m\u001b[38;5;124;03m\"\"\"\u001b[39;00m\n\u001b[1;32m   5445\u001b[0m \u001b[38;5;124;03m    Drop specified labels from rows or columns.\u001b[39;00m\n\u001b[1;32m   5446\u001b[0m \n\u001b[0;32m   (...)\u001b[0m\n\u001b[1;32m   5579\u001b[0m \u001b[38;5;124;03m            weight  1.0     0.8\u001b[39;00m\n\u001b[1;32m   5580\u001b[0m \u001b[38;5;124;03m    \"\"\"\u001b[39;00m\n\u001b[0;32m-> 5581\u001b[0m     \u001b[38;5;28;01mreturn\u001b[39;00m \u001b[38;5;28;43msuper\u001b[39;49m\u001b[43m(\u001b[49m\u001b[43m)\u001b[49m\u001b[38;5;241;43m.\u001b[39;49m\u001b[43mdrop\u001b[49m\u001b[43m(\u001b[49m\n\u001b[1;32m   5582\u001b[0m \u001b[43m        \u001b[49m\u001b[43mlabels\u001b[49m\u001b[38;5;241;43m=\u001b[39;49m\u001b[43mlabels\u001b[49m\u001b[43m,\u001b[49m\n\u001b[1;32m   5583\u001b[0m \u001b[43m        \u001b[49m\u001b[43maxis\u001b[49m\u001b[38;5;241;43m=\u001b[39;49m\u001b[43maxis\u001b[49m\u001b[43m,\u001b[49m\n\u001b[1;32m   5584\u001b[0m \u001b[43m        \u001b[49m\u001b[43mindex\u001b[49m\u001b[38;5;241;43m=\u001b[39;49m\u001b[43mindex\u001b[49m\u001b[43m,\u001b[49m\n\u001b[1;32m   5585\u001b[0m \u001b[43m        \u001b[49m\u001b[43mcolumns\u001b[49m\u001b[38;5;241;43m=\u001b[39;49m\u001b[43mcolumns\u001b[49m\u001b[43m,\u001b[49m\n\u001b[1;32m   5586\u001b[0m \u001b[43m        \u001b[49m\u001b[43mlevel\u001b[49m\u001b[38;5;241;43m=\u001b[39;49m\u001b[43mlevel\u001b[49m\u001b[43m,\u001b[49m\n\u001b[1;32m   5587\u001b[0m \u001b[43m        \u001b[49m\u001b[43minplace\u001b[49m\u001b[38;5;241;43m=\u001b[39;49m\u001b[43minplace\u001b[49m\u001b[43m,\u001b[49m\n\u001b[1;32m   5588\u001b[0m \u001b[43m        \u001b[49m\u001b[43merrors\u001b[49m\u001b[38;5;241;43m=\u001b[39;49m\u001b[43merrors\u001b[49m\u001b[43m,\u001b[49m\n\u001b[1;32m   5589\u001b[0m \u001b[43m    \u001b[49m\u001b[43m)\u001b[49m\n",
      "File \u001b[0;32m~/Desktop/4 курс/Python/myenv/lib/python3.9/site-packages/pandas/core/generic.py:4788\u001b[0m, in \u001b[0;36mNDFrame.drop\u001b[0;34m(self, labels, axis, index, columns, level, inplace, errors)\u001b[0m\n\u001b[1;32m   4786\u001b[0m \u001b[38;5;28;01mfor\u001b[39;00m axis, labels \u001b[38;5;129;01min\u001b[39;00m axes\u001b[38;5;241m.\u001b[39mitems():\n\u001b[1;32m   4787\u001b[0m     \u001b[38;5;28;01mif\u001b[39;00m labels \u001b[38;5;129;01mis\u001b[39;00m \u001b[38;5;129;01mnot\u001b[39;00m \u001b[38;5;28;01mNone\u001b[39;00m:\n\u001b[0;32m-> 4788\u001b[0m         obj \u001b[38;5;241m=\u001b[39m \u001b[43mobj\u001b[49m\u001b[38;5;241;43m.\u001b[39;49m\u001b[43m_drop_axis\u001b[49m\u001b[43m(\u001b[49m\u001b[43mlabels\u001b[49m\u001b[43m,\u001b[49m\u001b[43m \u001b[49m\u001b[43maxis\u001b[49m\u001b[43m,\u001b[49m\u001b[43m \u001b[49m\u001b[43mlevel\u001b[49m\u001b[38;5;241;43m=\u001b[39;49m\u001b[43mlevel\u001b[49m\u001b[43m,\u001b[49m\u001b[43m \u001b[49m\u001b[43merrors\u001b[49m\u001b[38;5;241;43m=\u001b[39;49m\u001b[43merrors\u001b[49m\u001b[43m)\u001b[49m\n\u001b[1;32m   4790\u001b[0m \u001b[38;5;28;01mif\u001b[39;00m inplace:\n\u001b[1;32m   4791\u001b[0m     \u001b[38;5;28mself\u001b[39m\u001b[38;5;241m.\u001b[39m_update_inplace(obj)\n",
      "File \u001b[0;32m~/Desktop/4 курс/Python/myenv/lib/python3.9/site-packages/pandas/core/generic.py:4830\u001b[0m, in \u001b[0;36mNDFrame._drop_axis\u001b[0;34m(self, labels, axis, level, errors, only_slice)\u001b[0m\n\u001b[1;32m   4828\u001b[0m         new_axis \u001b[38;5;241m=\u001b[39m axis\u001b[38;5;241m.\u001b[39mdrop(labels, level\u001b[38;5;241m=\u001b[39mlevel, errors\u001b[38;5;241m=\u001b[39merrors)\n\u001b[1;32m   4829\u001b[0m     \u001b[38;5;28;01melse\u001b[39;00m:\n\u001b[0;32m-> 4830\u001b[0m         new_axis \u001b[38;5;241m=\u001b[39m \u001b[43maxis\u001b[49m\u001b[38;5;241;43m.\u001b[39;49m\u001b[43mdrop\u001b[49m\u001b[43m(\u001b[49m\u001b[43mlabels\u001b[49m\u001b[43m,\u001b[49m\u001b[43m \u001b[49m\u001b[43merrors\u001b[49m\u001b[38;5;241;43m=\u001b[39;49m\u001b[43merrors\u001b[49m\u001b[43m)\u001b[49m\n\u001b[1;32m   4831\u001b[0m     indexer \u001b[38;5;241m=\u001b[39m axis\u001b[38;5;241m.\u001b[39mget_indexer(new_axis)\n\u001b[1;32m   4833\u001b[0m \u001b[38;5;66;03m# Case for non-unique axis\u001b[39;00m\n\u001b[1;32m   4834\u001b[0m \u001b[38;5;28;01melse\u001b[39;00m:\n",
      "File \u001b[0;32m~/Desktop/4 курс/Python/myenv/lib/python3.9/site-packages/pandas/core/indexes/base.py:7070\u001b[0m, in \u001b[0;36mIndex.drop\u001b[0;34m(self, labels, errors)\u001b[0m\n\u001b[1;32m   7068\u001b[0m \u001b[38;5;28;01mif\u001b[39;00m mask\u001b[38;5;241m.\u001b[39many():\n\u001b[1;32m   7069\u001b[0m     \u001b[38;5;28;01mif\u001b[39;00m errors \u001b[38;5;241m!=\u001b[39m \u001b[38;5;124m\"\u001b[39m\u001b[38;5;124mignore\u001b[39m\u001b[38;5;124m\"\u001b[39m:\n\u001b[0;32m-> 7070\u001b[0m         \u001b[38;5;28;01mraise\u001b[39;00m \u001b[38;5;167;01mKeyError\u001b[39;00m(\u001b[38;5;124mf\u001b[39m\u001b[38;5;124m\"\u001b[39m\u001b[38;5;132;01m{\u001b[39;00mlabels[mask]\u001b[38;5;241m.\u001b[39mtolist()\u001b[38;5;132;01m}\u001b[39;00m\u001b[38;5;124m not found in axis\u001b[39m\u001b[38;5;124m\"\u001b[39m)\n\u001b[1;32m   7071\u001b[0m     indexer \u001b[38;5;241m=\u001b[39m indexer[\u001b[38;5;241m~\u001b[39mmask]\n\u001b[1;32m   7072\u001b[0m \u001b[38;5;28;01mreturn\u001b[39;00m \u001b[38;5;28mself\u001b[39m\u001b[38;5;241m.\u001b[39mdelete(indexer)\n",
      "\u001b[0;31mKeyError\u001b[0m: \"['torque'] not found in axis\""
     ]
    }
   ],
   "source": [
    "# И также удалим столбец torque: \n",
    "data_cleaned = data_cleaned.drop(columns=['torque'])\n",
    "df_test = df_train.drop(columns=['torque'])"
   ]
  },
  {
   "cell_type": "markdown",
   "metadata": {
    "id": "_r9cXKx9lDaZ"
   },
   "source": [
    "### **Задание 4 (0.3 балла)**\n",
    "\n",
    "Теперь, когда не осталось пропусков, давайте преобразуем столбцы к более подходящим типам. А именно столбцы ``engnine`` и ``seats`` к приведем к `int`.\n",
    "\n",
    "- [ ] Осуществите приведение столбцов к необходимому типу."
   ]
  },
  {
   "cell_type": "code",
   "execution_count": 57,
   "metadata": {
    "id": "JUT8mOQNlmlN"
   },
   "outputs": [],
   "source": [
    "# your code here\n",
    "\n",
    "data_cleaned['engine_num'] = data_cleaned['engine_num'].replace(\"\", np.nan)\n",
    "\n",
    "median_value = data_cleaned['engine_num'].median()\n",
    "\n",
    "data_cleaned['engine_num'] = data_cleaned['engine_num'].fillna(median_value)\n"
   ]
  },
  {
   "cell_type": "code",
   "execution_count": 58,
   "metadata": {},
   "outputs": [
    {
     "data": {
      "text/plain": [
       "0       1248\n",
       "1       1498\n",
       "2       1396\n",
       "3       1298\n",
       "4       1197\n",
       "        ... \n",
       "5835    1086\n",
       "5836     998\n",
       "5837    1197\n",
       "5838    1493\n",
       "5839    1248\n",
       "Name: engine_num, Length: 5840, dtype: int64"
      ]
     },
     "execution_count": 58,
     "metadata": {},
     "output_type": "execute_result"
    }
   ],
   "source": [
    "data_cleaned['engine_num'] = data_cleaned['engine_num'].astype(int)\n",
    "data_cleaned['engine_num']"
   ]
  },
  {
   "cell_type": "code",
   "execution_count": 59,
   "metadata": {},
   "outputs": [
    {
     "data": {
      "text/plain": [
       "0       5\n",
       "1       5\n",
       "2       5\n",
       "3       5\n",
       "4       5\n",
       "       ..\n",
       "5835    5\n",
       "5836    5\n",
       "5837    5\n",
       "5838    5\n",
       "5839    5\n",
       "Name: seats, Length: 5840, dtype: int64"
      ]
     },
     "execution_count": 59,
     "metadata": {},
     "output_type": "execute_result"
    }
   ],
   "source": [
    "median_value_seats = data_cleaned['seats'].median()\n",
    "\n",
    "data_cleaned['seats'] = data_cleaned['seats'].fillna(median_value_seats)\n",
    "data_cleaned['seats'] = data_cleaned['seats'].astype(int)\n",
    "data_cleaned['seats']"
   ]
  },
  {
   "cell_type": "code",
   "execution_count": 60,
   "metadata": {},
   "outputs": [],
   "source": [
    "# И в тестовой выборке: \n",
    "df_test['engine_num'] = df_test['engine_num'].fillna(median_value)\n",
    "df_test['engine_num'] = df_test['engine_num'].astype(int)\n",
    "\n",
    "df_test['seats'] = df_test['seats'].fillna(median_value_seats)\n",
    "df_test['seats'] = df_test['seats'].astype(int)"
   ]
  },
  {
   "cell_type": "code",
   "execution_count": null,
   "metadata": {},
   "outputs": [],
   "source": []
  },
  {
   "cell_type": "markdown",
   "metadata": {
    "id": "DFuQ_PsulqCs"
   },
   "source": [
    "### **Задание 5 (0.3 балла)**\n",
    "\n",
    "Отлично! Мы провели \"косметическую\" предобработку и теперь готовы сделать важный шаг в контексте анализа данных. А именно — посмотреть на статистики!\n",
    "\n",
    "**Ваша задача:**\n",
    "- [ ] Посчитайте основные статистики по числовым столбцам для трейна и теста\n",
    "- [ ] Посчитайте основные статистики по категориальным столбцам для трейна и теста\n",
    "\n",
    "**Подсказка:**\n",
    "\n",
    "Используте ``.describe()`` с нужным(и) аргументом(-ами).\n",
    "\n",
    "**Примечание:**\n",
    "\n",
    "Более корректно рассматривать статистики до заполнения пропусков и после, чтобы убедиться, что мы не внесли каких-либо серьезных сдвигов в изначальные рапсределения."
   ]
  },
  {
   "cell_type": "code",
   "execution_count": null,
   "metadata": {
    "id": "kYKWyjsLYQuz"
   },
   "outputs": [
    {
     "data": {
      "text/html": [
       "<div>\n",
       "<style scoped>\n",
       "    .dataframe tbody tr th:only-of-type {\n",
       "        vertical-align: middle;\n",
       "    }\n",
       "\n",
       "    .dataframe tbody tr th {\n",
       "        vertical-align: top;\n",
       "    }\n",
       "\n",
       "    .dataframe thead th {\n",
       "        text-align: right;\n",
       "    }\n",
       "</style>\n",
       "<table border=\"1\" class=\"dataframe\">\n",
       "  <thead>\n",
       "    <tr style=\"text-align: right;\">\n",
       "      <th></th>\n",
       "      <th>year</th>\n",
       "      <th>selling_price</th>\n",
       "      <th>km_driven</th>\n",
       "      <th>seats</th>\n",
       "      <th>mileage_float</th>\n",
       "      <th>engine_num</th>\n",
       "      <th>max_power_float</th>\n",
       "    </tr>\n",
       "  </thead>\n",
       "  <tbody>\n",
       "    <tr>\n",
       "      <th>count</th>\n",
       "      <td>5840.000000</td>\n",
       "      <td>5.840000e+03</td>\n",
       "      <td>5.840000e+03</td>\n",
       "      <td>5840.000000</td>\n",
       "      <td>5654.000000</td>\n",
       "      <td>5840.000000</td>\n",
       "      <td>5656.000000</td>\n",
       "    </tr>\n",
       "    <tr>\n",
       "      <th>mean</th>\n",
       "      <td>2013.428425</td>\n",
       "      <td>5.229601e+05</td>\n",
       "      <td>7.395224e+04</td>\n",
       "      <td>45.015411</td>\n",
       "      <td>19.432842</td>\n",
       "      <td>1429.448973</td>\n",
       "      <td>88.103070</td>\n",
       "    </tr>\n",
       "    <tr>\n",
       "      <th>std</th>\n",
       "      <td>4.095622</td>\n",
       "      <td>5.354320e+05</td>\n",
       "      <td>6.007114e+04</td>\n",
       "      <td>218.212786</td>\n",
       "      <td>4.051002</td>\n",
       "      <td>485.662834</td>\n",
       "      <td>32.131943</td>\n",
       "    </tr>\n",
       "    <tr>\n",
       "      <th>min</th>\n",
       "      <td>1983.000000</td>\n",
       "      <td>2.999900e+04</td>\n",
       "      <td>1.000000e+00</td>\n",
       "      <td>2.000000</td>\n",
       "      <td>0.000000</td>\n",
       "      <td>624.000000</td>\n",
       "      <td>0.000000</td>\n",
       "    </tr>\n",
       "    <tr>\n",
       "      <th>25%</th>\n",
       "      <td>2011.000000</td>\n",
       "      <td>2.500000e+05</td>\n",
       "      <td>3.900000e+04</td>\n",
       "      <td>5.000000</td>\n",
       "      <td>16.800000</td>\n",
       "      <td>1197.000000</td>\n",
       "      <td>68.000000</td>\n",
       "    </tr>\n",
       "    <tr>\n",
       "      <th>50%</th>\n",
       "      <td>2014.000000</td>\n",
       "      <td>4.050000e+05</td>\n",
       "      <td>7.000000e+04</td>\n",
       "      <td>5.000000</td>\n",
       "      <td>19.370000</td>\n",
       "      <td>1248.000000</td>\n",
       "      <td>81.860000</td>\n",
       "    </tr>\n",
       "    <tr>\n",
       "      <th>75%</th>\n",
       "      <td>2017.000000</td>\n",
       "      <td>6.400000e+05</td>\n",
       "      <td>1.000000e+05</td>\n",
       "      <td>5.000000</td>\n",
       "      <td>22.320000</td>\n",
       "      <td>1498.000000</td>\n",
       "      <td>100.000000</td>\n",
       "    </tr>\n",
       "    <tr>\n",
       "      <th>max</th>\n",
       "      <td>2020.000000</td>\n",
       "      <td>1.000000e+07</td>\n",
       "      <td>2.360457e+06</td>\n",
       "      <td>1248.000000</td>\n",
       "      <td>42.000000</td>\n",
       "      <td>3604.000000</td>\n",
       "      <td>400.000000</td>\n",
       "    </tr>\n",
       "  </tbody>\n",
       "</table>\n",
       "</div>"
      ],
      "text/plain": [
       "              year  selling_price     km_driven        seats  mileage_float  \\\n",
       "count  5840.000000   5.840000e+03  5.840000e+03  5840.000000    5654.000000   \n",
       "mean   2013.428425   5.229601e+05  7.395224e+04    45.015411      19.432842   \n",
       "std       4.095622   5.354320e+05  6.007114e+04   218.212786       4.051002   \n",
       "min    1983.000000   2.999900e+04  1.000000e+00     2.000000       0.000000   \n",
       "25%    2011.000000   2.500000e+05  3.900000e+04     5.000000      16.800000   \n",
       "50%    2014.000000   4.050000e+05  7.000000e+04     5.000000      19.370000   \n",
       "75%    2017.000000   6.400000e+05  1.000000e+05     5.000000      22.320000   \n",
       "max    2020.000000   1.000000e+07  2.360457e+06  1248.000000      42.000000   \n",
       "\n",
       "        engine_num  max_power_float  \n",
       "count  5840.000000      5656.000000  \n",
       "mean   1429.448973        88.103070  \n",
       "std     485.662834        32.131943  \n",
       "min     624.000000         0.000000  \n",
       "25%    1197.000000        68.000000  \n",
       "50%    1248.000000        81.860000  \n",
       "75%    1498.000000       100.000000  \n",
       "max    3604.000000       400.000000  "
      ]
     },
     "execution_count": 97,
     "metadata": {},
     "output_type": "execute_result"
    }
   ],
   "source": [
    "# your code here\n",
    "data_cleaned.describe()\n"
   ]
  },
  {
   "cell_type": "code",
   "execution_count": null,
   "metadata": {},
   "outputs": [
    {
     "data": {
      "text/html": [
       "<div>\n",
       "<style scoped>\n",
       "    .dataframe tbody tr th:only-of-type {\n",
       "        vertical-align: middle;\n",
       "    }\n",
       "\n",
       "    .dataframe tbody tr th {\n",
       "        vertical-align: top;\n",
       "    }\n",
       "\n",
       "    .dataframe thead th {\n",
       "        text-align: right;\n",
       "    }\n",
       "</style>\n",
       "<table border=\"1\" class=\"dataframe\">\n",
       "  <thead>\n",
       "    <tr style=\"text-align: right;\">\n",
       "      <th></th>\n",
       "      <th>year</th>\n",
       "      <th>selling_price</th>\n",
       "      <th>km_driven</th>\n",
       "      <th>seats</th>\n",
       "    </tr>\n",
       "  </thead>\n",
       "  <tbody>\n",
       "    <tr>\n",
       "      <th>count</th>\n",
       "      <td>6999.000000</td>\n",
       "      <td>6.999000e+03</td>\n",
       "      <td>6.999000e+03</td>\n",
       "      <td>6797.000000</td>\n",
       "    </tr>\n",
       "    <tr>\n",
       "      <th>mean</th>\n",
       "      <td>2013.818403</td>\n",
       "      <td>6.395152e+05</td>\n",
       "      <td>6.958462e+04</td>\n",
       "      <td>5.419008</td>\n",
       "    </tr>\n",
       "    <tr>\n",
       "      <th>std</th>\n",
       "      <td>4.053095</td>\n",
       "      <td>8.089419e+05</td>\n",
       "      <td>5.772400e+04</td>\n",
       "      <td>0.965767</td>\n",
       "    </tr>\n",
       "    <tr>\n",
       "      <th>min</th>\n",
       "      <td>1983.000000</td>\n",
       "      <td>2.999900e+04</td>\n",
       "      <td>1.000000e+00</td>\n",
       "      <td>2.000000</td>\n",
       "    </tr>\n",
       "    <tr>\n",
       "      <th>25%</th>\n",
       "      <td>2011.000000</td>\n",
       "      <td>2.549990e+05</td>\n",
       "      <td>3.500000e+04</td>\n",
       "      <td>5.000000</td>\n",
       "    </tr>\n",
       "    <tr>\n",
       "      <th>50%</th>\n",
       "      <td>2015.000000</td>\n",
       "      <td>4.500000e+05</td>\n",
       "      <td>6.000000e+04</td>\n",
       "      <td>5.000000</td>\n",
       "    </tr>\n",
       "    <tr>\n",
       "      <th>75%</th>\n",
       "      <td>2017.000000</td>\n",
       "      <td>6.750000e+05</td>\n",
       "      <td>9.700000e+04</td>\n",
       "      <td>5.000000</td>\n",
       "    </tr>\n",
       "    <tr>\n",
       "      <th>max</th>\n",
       "      <td>2020.000000</td>\n",
       "      <td>1.000000e+07</td>\n",
       "      <td>2.360457e+06</td>\n",
       "      <td>14.000000</td>\n",
       "    </tr>\n",
       "  </tbody>\n",
       "</table>\n",
       "</div>"
      ],
      "text/plain": [
       "              year  selling_price     km_driven        seats\n",
       "count  6999.000000   6.999000e+03  6.999000e+03  6797.000000\n",
       "mean   2013.818403   6.395152e+05  6.958462e+04     5.419008\n",
       "std       4.053095   8.089419e+05  5.772400e+04     0.965767\n",
       "min    1983.000000   2.999900e+04  1.000000e+00     2.000000\n",
       "25%    2011.000000   2.549990e+05  3.500000e+04     5.000000\n",
       "50%    2015.000000   4.500000e+05  6.000000e+04     5.000000\n",
       "75%    2017.000000   6.750000e+05  9.700000e+04     5.000000\n",
       "max    2020.000000   1.000000e+07  2.360457e+06    14.000000"
      ]
     },
     "execution_count": 188,
     "metadata": {},
     "output_type": "execute_result"
    }
   ],
   "source": [
    "df_test.describe()"
   ]
  },
  {
   "cell_type": "code",
   "execution_count": null,
   "metadata": {},
   "outputs": [
    {
     "data": {
      "text/html": [
       "<div>\n",
       "<style scoped>\n",
       "    .dataframe tbody tr th:only-of-type {\n",
       "        vertical-align: middle;\n",
       "    }\n",
       "\n",
       "    .dataframe tbody tr th {\n",
       "        vertical-align: top;\n",
       "    }\n",
       "\n",
       "    .dataframe thead th {\n",
       "        text-align: right;\n",
       "    }\n",
       "</style>\n",
       "<table border=\"1\" class=\"dataframe\">\n",
       "  <thead>\n",
       "    <tr style=\"text-align: right;\">\n",
       "      <th></th>\n",
       "      <th>name</th>\n",
       "      <th>fuel</th>\n",
       "      <th>seller_type</th>\n",
       "      <th>transmission</th>\n",
       "      <th>owner</th>\n",
       "    </tr>\n",
       "  </thead>\n",
       "  <tbody>\n",
       "    <tr>\n",
       "      <th>count</th>\n",
       "      <td>5840</td>\n",
       "      <td>5840</td>\n",
       "      <td>5840</td>\n",
       "      <td>5840</td>\n",
       "      <td>5840</td>\n",
       "    </tr>\n",
       "    <tr>\n",
       "      <th>unique</th>\n",
       "      <td>1924</td>\n",
       "      <td>4</td>\n",
       "      <td>3</td>\n",
       "      <td>2</td>\n",
       "      <td>5</td>\n",
       "    </tr>\n",
       "    <tr>\n",
       "      <th>top</th>\n",
       "      <td>Maruti Swift Dzire VDI</td>\n",
       "      <td>Diesel</td>\n",
       "      <td>Individual</td>\n",
       "      <td>Manual</td>\n",
       "      <td>First Owner</td>\n",
       "    </tr>\n",
       "    <tr>\n",
       "      <th>freq</th>\n",
       "      <td>91</td>\n",
       "      <td>3177</td>\n",
       "      <td>5223</td>\n",
       "      <td>5336</td>\n",
       "      <td>3603</td>\n",
       "    </tr>\n",
       "  </tbody>\n",
       "</table>\n",
       "</div>"
      ],
      "text/plain": [
       "                          name    fuel seller_type transmission        owner\n",
       "count                     5840    5840        5840         5840         5840\n",
       "unique                    1924       4           3            2            5\n",
       "top     Maruti Swift Dzire VDI  Diesel  Individual       Manual  First Owner\n",
       "freq                        91    3177        5223         5336         3603"
      ]
     },
     "execution_count": 120,
     "metadata": {},
     "output_type": "execute_result"
    }
   ],
   "source": [
    "# Для категориальных столбцов:\n",
    "data_cleaned.describe(include=['object'])"
   ]
  },
  {
   "cell_type": "code",
   "execution_count": null,
   "metadata": {},
   "outputs": [
    {
     "data": {
      "text/html": [
       "<div>\n",
       "<style scoped>\n",
       "    .dataframe tbody tr th:only-of-type {\n",
       "        vertical-align: middle;\n",
       "    }\n",
       "\n",
       "    .dataframe tbody tr th {\n",
       "        vertical-align: top;\n",
       "    }\n",
       "\n",
       "    .dataframe thead th {\n",
       "        text-align: right;\n",
       "    }\n",
       "</style>\n",
       "<table border=\"1\" class=\"dataframe\">\n",
       "  <thead>\n",
       "    <tr style=\"text-align: right;\">\n",
       "      <th></th>\n",
       "      <th>name</th>\n",
       "      <th>fuel</th>\n",
       "      <th>seller_type</th>\n",
       "      <th>transmission</th>\n",
       "      <th>owner</th>\n",
       "    </tr>\n",
       "  </thead>\n",
       "  <tbody>\n",
       "    <tr>\n",
       "      <th>count</th>\n",
       "      <td>6999</td>\n",
       "      <td>6999</td>\n",
       "      <td>6999</td>\n",
       "      <td>6999</td>\n",
       "      <td>6999</td>\n",
       "    </tr>\n",
       "    <tr>\n",
       "      <th>unique</th>\n",
       "      <td>1924</td>\n",
       "      <td>4</td>\n",
       "      <td>3</td>\n",
       "      <td>2</td>\n",
       "      <td>5</td>\n",
       "    </tr>\n",
       "    <tr>\n",
       "      <th>top</th>\n",
       "      <td>Maruti Swift Dzire VDI</td>\n",
       "      <td>Diesel</td>\n",
       "      <td>Individual</td>\n",
       "      <td>Manual</td>\n",
       "      <td>First Owner</td>\n",
       "    </tr>\n",
       "    <tr>\n",
       "      <th>freq</th>\n",
       "      <td>116</td>\n",
       "      <td>3793</td>\n",
       "      <td>5826</td>\n",
       "      <td>6095</td>\n",
       "      <td>4587</td>\n",
       "    </tr>\n",
       "  </tbody>\n",
       "</table>\n",
       "</div>"
      ],
      "text/plain": [
       "                          name    fuel seller_type transmission        owner\n",
       "count                     6999    6999        6999         6999         6999\n",
       "unique                    1924       4           3            2            5\n",
       "top     Maruti Swift Dzire VDI  Diesel  Individual       Manual  First Owner\n",
       "freq                       116    3793        5826         6095         4587"
      ]
     },
     "execution_count": 127,
     "metadata": {},
     "output_type": "execute_result"
    }
   ],
   "source": [
    "# Для категориальных столбцов:\n",
    "df_test.describe(include=['object'])"
   ]
  },
  {
   "cell_type": "code",
   "execution_count": 62,
   "metadata": {},
   "outputs": [
    {
     "data": {
      "text/plain": [
       "(5840, 12)"
      ]
     },
     "execution_count": 62,
     "metadata": {},
     "output_type": "execute_result"
    }
   ],
   "source": [
    "# Проверка того, что все сделали правильно\n",
    "\n",
    "# Удалим предыдущие переменные, которые мы уже заменили: \n",
    "\n",
    "data_cleaned = data_cleaned.drop(columns=['mileage'])\n",
    "df_test = df_test.drop(columns=['mileage'])\n",
    "\n",
    "data_cleaned = data_cleaned.drop(columns=['engine'])\n",
    "df_test = df_test.drop(columns=['engine'])\n",
    "\n",
    "data_cleaned = data_cleaned.drop(columns=['max_power'])\n",
    "df_test = df_test.drop(columns=['max_power'])\n",
    "\n",
    "data_cleaned.shape"
   ]
  },
  {
   "cell_type": "markdown",
   "metadata": {
    "id": "OmV784QWZOpO"
   },
   "source": [
    "## **Визуализации (3 балла)**\n",
    "\n"
   ]
  },
  {
   "cell_type": "markdown",
   "metadata": {
    "id": "6p2L60ngZueT"
   },
   "source": [
    "Визуализация данных — важный шаг в работе. Визуализировать данные необходимо, например, чтобы:\n",
    "\n",
    "- Оценить распределения признаков самих по себе (это может натоклнуть вас на мысли о модели, которую можно использовать)\n",
    "- Сравнить распределения на `train` и `test` — чтобы проверить, насколько информация, на которой вы будете обучаться согласуется с той, на которой модель должна работать\n",
    "- Оценить есть ли явная связь признаков с целевой переменной\n",
    "\n",
    "**Важно:**\n",
    "\n",
    "Если распределения на `train` и `test` не совпадают, это не значит, что нужно перемешивать данные! Более корректно актуализировать задачу и уточнить, а не устарели ли данные `train`. Также полезным может быть собрать новую тестовую выборку, смешав те, что имеются сейчас.\n",
    "\n",
    "**Если вы будете подгонять распределения, то можете встретиться с переобучением!**"
   ]
  },
  {
   "cell_type": "markdown",
   "metadata": {
    "id": "bNjHoAt7nlOa"
   },
   "source": [
    "### **Задание 6 (1.5 балла)**\n",
    "\n",
    "Шаг 1.\n",
    "- [ ] Воспользуйтесь `pairplot` из библиотеки `seabron`, чтобы визуализировать попарные распределения числовых признаков для `train`\n",
    "- [ ] По полученному графику ответьте на вопросы:\n",
    " - Можно ли предположить на основе распределений связь признаков с целевой переменной?\n",
    " - Можно ли предположить на основе распределений выдвинуть гипотезу о корреляциях признаков?\n",
    "\n",
    "Шаг 2.\n",
    "\n",
    "- [ ] Постройте pairplot по тестовым данным\n",
    "- [ ] Ответьте на вопрос \"Похожими ли оказались совокупности при разделении на трейн и тест?\""
   ]
  },
  {
   "cell_type": "code",
   "execution_count": null,
   "metadata": {
    "id": "0car89hFaby1"
   },
   "outputs": [
    {
     "data": {
      "image/png": "[encoded data removed]",
      "text/plain": [
       "<Figure size 870.125x750 with 12 Axes>"
      ]
     },
     "metadata": {},
     "output_type": "display_data"
    }
   ],
   "source": [
    "# your code here\n",
    "import seaborn as sns\n",
    "import matplotlib.pyplot as plt\n",
    "\n",
    "numeric_columns = df_train.select_dtypes(include=['number'])\n",
    "sns.pairplot(numeric_columns, hue='selling_price')\n",
    "plt.show()"
   ]
  },
  {
   "cell_type": "markdown",
   "metadata": {},
   "source": [
    "По предложенным данным можно предположить о связи переменной selling_price с переменной seats. Также можно выдвинуть гипотезу о связи признака year с признаком km_driven.\n"
   ]
  },
  {
   "cell_type": "code",
   "execution_count": null,
   "metadata": {
    "id": "NK9l6SrAeHK1"
   },
   "outputs": [
    {
     "data": {
      "text/plain": [
       "<seaborn.axisgrid.PairGrid at 0x7fc3dcce33d0>"
      ]
     },
     "execution_count": 130,
     "metadata": {},
     "output_type": "execute_result"
    },
    {
     "data": {
      "image/png": "[encoded data removed]",
      "text/plain": [
       "<Figure size 870.125x750 with 12 Axes>"
      ]
     },
     "metadata": {},
     "output_type": "display_data"
    }
   ],
   "source": [
    "# your code here\n",
    "numeric_columns_test = df_test.select_dtypes(include=['number'])\n",
    "a = sns.pairplot(numeric_columns_test, hue='selling_price')\n",
    "a"
   ]
  },
  {
   "cell_type": "markdown",
   "metadata": {
    "id": "9Nrf9A_Mohgz"
   },
   "source": [
    "В тестовых данных мы можем наблюдать большую вероятность взаимосвязи целнвой переменной и остальных переменных. В этих данных также тщетче видны зависимости между самими признаками. "
   ]
  },
  {
   "cell_type": "markdown",
   "metadata": {
    "id": "1G4nG3GWoniC"
   },
   "source": [
    "### **Задание 7 (1.5 балла)**\n",
    "\n",
    "И так, вы выдвинули гипотезы о наличии связи. Теперь давайте оценим эту связь в числах.\n",
    "\n",
    "**Задание:**\n",
    "- [ ] Получите значения коэффициента корреляции Пирсона для тренировочного набора данных при помощи `pd.corr()`\n",
    "- [ ] По полученным корреляциям постройте тепловую карту (`heatmap` из бибилотеки seaborn)\n"
   ]
  },
  {
   "cell_type": "code",
   "execution_count": null,
   "metadata": {
    "id": "E99LVAN2fMVH"
   },
   "outputs": [],
   "source": [
    "# your code here\n",
    "\n",
    "data_cleaned\n",
    "for_matrix = data_cleaned[['selling_price', 'seats', 'mileage_float', 'engine_num', 'max_power_float', 'year', 'km_driven']]\n",
    "correlation_matrix =for_matrix.corr(method='pearson')\n"
   ]
  },
  {
   "cell_type": "code",
   "execution_count": null,
   "metadata": {},
   "outputs": [
    {
     "data": {
      "image/png": "[encoded data removed]",
      "text/plain": [
       "<Figure size 800x600 with 2 Axes>"
      ]
     },
     "metadata": {},
     "output_type": "display_data"
    }
   ],
   "source": [
    "# Тепловая карта: \n",
    "plt.figure(figsize=(8, 6)) \n",
    "sns.heatmap(correlation_matrix, annot=True, cmap='coolwarm', fmt=\".2f\", linewidths=0.5)\n",
    "plt.title('Тепловая карта корреляций (Pearson)')\n",
    "plt.show()"
   ]
  },
  {
   "cell_type": "markdown",
   "metadata": {
    "id": "w24a_oXqf12H"
   },
   "source": [
    "- [ ] Ответьте на вопросы:\n",
    " - Какие 2 признака наименее скоррелированы между собой?\n",
    " - Между какими наблюдается довольно сильная положительная линейная зависимость?\n",
    " - Правильно ли, опираясь на данные, утверждать, что чем меньше год, тем, скорее всего, больше километров проехала машина к дате продажи?"
   ]
  },
  {
   "cell_type": "markdown",
   "metadata": {},
   "source": [
    "(1) Наименее скоррелированы между собой: max_power_float и km_driven, так как модуль значения корреляции равен всего 0.03\n",
    "(2) Да, это верно утверждать. Потому что корреляция между этими признаками значение корреляции отрицательное (-0.37), причем корреляция слабая \n"
   ]
  },
  {
   "cell_type": "markdown",
   "metadata": {
    "id": "uS2CQ1LzrP_U"
   },
   "source": [
    "# **Часть 2 | Модель только на вещественных признаках (6.25 балла)**\n",
    "\n",
    "В этой части вам предстоит обучить модель только на вещественных признаках. Почему только на них?\n",
    "\n",
    "Чем больше признаковое пространство — чем сложнее модель. А чем модель проще — тем лучше для скорости работы и интерпретации признаков.\n"
   ]
  },
  {
   "cell_type": "markdown",
   "metadata": {
    "id": "KrsL99SsqWIz"
   },
   "source": [
    "### **Задание 8 (0.25 балла)**\n",
    "\n",
    "Разбейте данные на тренировочный и тестовый наборы. Перед разбиением создайте копию датафрейма, который будет хранить только вещественные признаки и используйте его (то есть категориальные столбцы (все, кроме seats) необходимо удалить).\n",
    "\n",
    "В переменные y_train и y_test запишите значения целевых переменных."
   ]
  },
  {
   "cell_type": "code",
   "execution_count": 70,
   "metadata": {
    "id": "cGxjJSSUg2na"
   },
   "outputs": [],
   "source": [
    "copy_train = data_cleaned.copy()\n",
    "copy_test = df_test.copy()\n",
    "\n",
    "y_train = data_cleaned['selling_price']\n",
    "X_train = data_cleaned[['seats', 'mileage_float', 'engine_num', 'max_power_float', 'year', 'km_driven']]"
   ]
  },
  {
   "cell_type": "markdown",
   "metadata": {},
   "source": [
    "Ранее мы заполнили согласно заданию переменные mileage и max_power пустыми строками. Однако учитывая, что пустые значения можно заполнить медианой переменных, сделаем это для новых переменных в наборе:"
   ]
  },
  {
   "cell_type": "code",
   "execution_count": 81,
   "metadata": {},
   "outputs": [
    {
     "name": "stderr",
     "output_type": "stream",
     "text": [
      "/var/folders/mv/z6tk4kf54qx9f5x637st2ykr0000gn/T/ipykernel_9695/2935469700.py:2: FutureWarning: A value is trying to be set on a copy of a DataFrame or Series through chained assignment using an inplace method.\n",
      "The behavior will change in pandas 3.0. This inplace method will never work because the intermediate object on which we are setting values always behaves as a copy.\n",
      "\n",
      "For example, when doing 'df[col].method(value, inplace=True)', try using 'df.method({col: value}, inplace=True)' or df[col] = df[col].method(value) instead, to perform the operation inplace on the original object.\n",
      "\n",
      "\n",
      "  X_train['mileage_float'].fillna(median_mileage, inplace=True)\n",
      "/var/folders/mv/z6tk4kf54qx9f5x637st2ykr0000gn/T/ipykernel_9695/2935469700.py:2: SettingWithCopyWarning: \n",
      "A value is trying to be set on a copy of a slice from a DataFrame\n",
      "\n",
      "See the caveats in the documentation: https://pandas.pydata.org/pandas-docs/stable/user_guide/indexing.html#returning-a-view-versus-a-copy\n",
      "  X_train['mileage_float'].fillna(median_mileage, inplace=True)\n",
      "/var/folders/mv/z6tk4kf54qx9f5x637st2ykr0000gn/T/ipykernel_9695/2935469700.py:5: FutureWarning: A value is trying to be set on a copy of a DataFrame or Series through chained assignment using an inplace method.\n",
      "The behavior will change in pandas 3.0. This inplace method will never work because the intermediate object on which we are setting values always behaves as a copy.\n",
      "\n",
      "For example, when doing 'df[col].method(value, inplace=True)', try using 'df.method({col: value}, inplace=True)' or df[col] = df[col].method(value) instead, to perform the operation inplace on the original object.\n",
      "\n",
      "\n",
      "  X_train['max_power_float'].fillna(median_power, inplace=True)\n",
      "/var/folders/mv/z6tk4kf54qx9f5x637st2ykr0000gn/T/ipykernel_9695/2935469700.py:5: SettingWithCopyWarning: \n",
      "A value is trying to be set on a copy of a slice from a DataFrame\n",
      "\n",
      "See the caveats in the documentation: https://pandas.pydata.org/pandas-docs/stable/user_guide/indexing.html#returning-a-view-versus-a-copy\n",
      "  X_train['max_power_float'].fillna(median_power, inplace=True)\n",
      "/var/folders/mv/z6tk4kf54qx9f5x637st2ykr0000gn/T/ipykernel_9695/2935469700.py:8: FutureWarning: A value is trying to be set on a copy of a DataFrame or Series through chained assignment using an inplace method.\n",
      "The behavior will change in pandas 3.0. This inplace method will never work because the intermediate object on which we are setting values always behaves as a copy.\n",
      "\n",
      "For example, when doing 'df[col].method(value, inplace=True)', try using 'df.method({col: value}, inplace=True)' or df[col] = df[col].method(value) instead, to perform the operation inplace on the original object.\n",
      "\n",
      "\n",
      "  X_test['mileage_float'].fillna(median_mileage, inplace=True)\n",
      "/var/folders/mv/z6tk4kf54qx9f5x637st2ykr0000gn/T/ipykernel_9695/2935469700.py:8: SettingWithCopyWarning: \n",
      "A value is trying to be set on a copy of a slice from a DataFrame\n",
      "\n",
      "See the caveats in the documentation: https://pandas.pydata.org/pandas-docs/stable/user_guide/indexing.html#returning-a-view-versus-a-copy\n",
      "  X_test['mileage_float'].fillna(median_mileage, inplace=True)\n",
      "/var/folders/mv/z6tk4kf54qx9f5x637st2ykr0000gn/T/ipykernel_9695/2935469700.py:11: FutureWarning: A value is trying to be set on a copy of a DataFrame or Series through chained assignment using an inplace method.\n",
      "The behavior will change in pandas 3.0. This inplace method will never work because the intermediate object on which we are setting values always behaves as a copy.\n",
      "\n",
      "For example, when doing 'df[col].method(value, inplace=True)', try using 'df.method({col: value}, inplace=True)' or df[col] = df[col].method(value) instead, to perform the operation inplace on the original object.\n",
      "\n",
      "\n",
      "  X_test['max_power_float'].fillna(median_power, inplace=True)\n",
      "/var/folders/mv/z6tk4kf54qx9f5x637st2ykr0000gn/T/ipykernel_9695/2935469700.py:11: SettingWithCopyWarning: \n",
      "A value is trying to be set on a copy of a slice from a DataFrame\n",
      "\n",
      "See the caveats in the documentation: https://pandas.pydata.org/pandas-docs/stable/user_guide/indexing.html#returning-a-view-versus-a-copy\n",
      "  X_test['max_power_float'].fillna(median_power, inplace=True)\n"
     ]
    }
   ],
   "source": [
    "median_mileage = X_train['mileage_float'].median()  \n",
    "X_train['mileage_float'].fillna(median_mileage, inplace=True)\n",
    "\n",
    "median_power = X_train['max_power_float'].median()  \n",
    "X_train['max_power_float'].fillna(median_power, inplace=True)\n",
    "\n",
    "\n",
    "X_test['mileage_float'].fillna(median_mileage, inplace=True)\n",
    "\n",
    " \n",
    "X_test['max_power_float'].fillna(median_power, inplace=True)"
   ]
  },
  {
   "cell_type": "code",
   "execution_count": 82,
   "metadata": {},
   "outputs": [
    {
     "data": {
      "text/plain": [
       "seats              0\n",
       "mileage_float      0\n",
       "engine_num         0\n",
       "max_power_float    0\n",
       "year               0\n",
       "km_driven          0\n",
       "dtype: int64"
      ]
     },
     "execution_count": 82,
     "metadata": {},
     "output_type": "execute_result"
    }
   ],
   "source": [
    "X_train.isna().sum()"
   ]
  },
  {
   "cell_type": "code",
   "execution_count": 83,
   "metadata": {},
   "outputs": [
    {
     "data": {
      "text/plain": [
       "seats              0\n",
       "mileage_float      0\n",
       "engine_num         0\n",
       "max_power_float    0\n",
       "year               0\n",
       "km_driven          0\n",
       "dtype: int64"
      ]
     },
     "execution_count": 83,
     "metadata": {},
     "output_type": "execute_result"
    }
   ],
   "source": [
    "X_test.isna().sum()"
   ]
  },
  {
   "cell_type": "code",
   "execution_count": null,
   "metadata": {
    "id": "fyMyARKem5wl"
   },
   "outputs": [
    {
     "data": {
      "text/plain": [
       "(5840, 6)"
      ]
     },
     "execution_count": 146,
     "metadata": {},
     "output_type": "execute_result"
    }
   ],
   "source": [
    "X_train.shape #== (5840, 6), 'Упс, неверный размер данных. Возможно, вы что-то сделали не так?'"
   ]
  },
  {
   "cell_type": "code",
   "execution_count": 63,
   "metadata": {
    "id": "xKRmqiJ5rbSx"
   },
   "outputs": [],
   "source": [
    "y_test = df_test['selling_price']\n",
    "X_test = df_test[['seats', 'mileage_float', 'engine_num', 'max_power_float', 'year', 'km_driven']]"
   ]
  },
  {
   "cell_type": "code",
   "execution_count": 64,
   "metadata": {
    "id": "-JepTZ36y-h-"
   },
   "outputs": [
    {
     "data": {
      "text/plain": [
       "(1000, 6)"
      ]
     },
     "execution_count": 64,
     "metadata": {},
     "output_type": "execute_result"
    }
   ],
   "source": [
    "X_test.shape #== (1000, 6), 'Упс, неверный размер данных. Возможно, вы что-то сделали не так?'"
   ]
  },
  {
   "cell_type": "markdown",
   "metadata": {
    "id": "U5b4TfLtq-FC"
   },
   "source": [
    "### **Задание 9 (1 балл)**\n",
    "\n",
    "Построим нашу первую модель!\n",
    "- [ ] Обучите классическую линейную регрессию с дефолтными параметрами. Посчтитайте $R^2$ и $MSE$ для трейна и для теста.\n",
    "- [ ] Сделайте выводы по значениям метрик качества.\n",
    "\n",
    "**Примечание:**\n",
    "\n",
    "Здесь и далее $R^2$ и $MSE$ для трейна и для теста выводите везде, где требуется обучать модели, даже если в явном виде этого не просят. Иначе непонятно, как понять, насколько успешны наши эксперименты."
   ]
  },
  {
   "cell_type": "code",
   "execution_count": 86,
   "metadata": {
    "id": "hVYXaeTgrb3d"
   },
   "outputs": [
    {
     "name": "stdout",
     "output_type": "stream",
     "text": [
      "Метрики качества для тренировочного набора:\n",
      "R^2: 0.5923\n",
      "MSE: 116874153930.0289\n",
      "\n",
      "Метрики качества для тестового набора:\n",
      "R^2: 0.5941\n",
      "MSE: 233298779730.4529\n"
     ]
    }
   ],
   "source": [
    "from sklearn.linear_model import LinearRegression\n",
    "from sklearn.metrics import r2_score, mean_squared_error as MSE\n",
    "\n",
    "# your code here\n",
    "\n",
    "model = LinearRegression()\n",
    "model.fit(X_train, y_train)\n",
    "\n",
    "# Предсказания на тренировочном и тестовом наборах:\n",
    "y_train_pred = model.predict(X_train)\n",
    "y_test_pred = model.predict(X_test)\n",
    "\n",
    "# Метрики качества для тренировочного набора:\n",
    "r2_train = r2_score(y_train, y_train_pred)\n",
    "mse_train = MSE(y_train, y_train_pred)\n",
    "\n",
    "# Для тестового набора:\n",
    "r2_test = r2_score(y_test, y_test_pred)\n",
    "mse_test = MSE(y_test, y_test_pred)\n",
    "\n",
    "# Вывод результатов\n",
    "print(\"Метрики качества для тренировочного набора:\")\n",
    "print(f\"R^2: {r2_train:.4f}\")\n",
    "print(f\"MSE: {mse_train:.4f}\")\n",
    "\n",
    "print(\"\\nМетрики качества для тестового набора:\")\n",
    "print(f\"R^2: {r2_test:.4f}\")\n",
    "print(f\"MSE: {mse_test:.4f}\")\n",
    "\n",
    "\n"
   ]
  },
  {
   "cell_type": "markdown",
   "metadata": {},
   "source": [
    "Выводы: \n",
    "Порядка 59% целевой переменной объясняется регрессионной моделью, это достаточно хороший показатель. Аналогично и в тестовом наборе. \n",
    "Значения R2 почти идентичны для тренировочного набора и для тестового набора, что позволяет сказать, что модель не переобучена и дает хорошо обобщенные данные. \n",
    "\n",
    "Говоря про MSE, можно отметить, что для тестового набора она в два и более раз выше. Это может говорить о переобучении модели. \n"
   ]
  },
  {
   "cell_type": "markdown",
   "metadata": {
    "id": "HpQ8EG2Uk_Dn"
   },
   "source": [
    "### **Задание 10 (0.75 балла)**\n",
    "\n",
    "Всегда есть место совершенству. Поэтому давайте попробуем улучшить модель. При помощи стандартизации признаков.\n",
    "\n",
    "- [ ] Стандартизируйте значения в тренировочных и тестовых данных. Стандартизатор **обучайте только на `train`**."
   ]
  },
  {
   "cell_type": "code",
   "execution_count": 95,
   "metadata": {
    "id": "o6FB80C2rciK"
   },
   "outputs": [
    {
     "name": "stdout",
     "output_type": "stream",
     "text": [
      "Метрики качества для тренировочного набора:\n",
      "R^2: 0.5923\n",
      "MSE: 116874153930.0289\n",
      "\n",
      "Метрики качества для тестового набора:\n",
      "R^2: 0.5941\n",
      "MSE: 233298779730.4498\n"
     ]
    }
   ],
   "source": [
    "from sklearn.preprocessing import StandardScaler\n",
    "# Делаем стандартизацию\n",
    "scaler = StandardScaler()  # Создаем объект StandardScaler:\n",
    "X_train_scaled = scaler.fit_transform(X_train)\n",
    "\n",
    "# Применяем стандартизацию к тестовым данным:\n",
    "X_test_scaled = scaler.transform(X_test)\n",
    "\n",
    "# Обучаем модель линейной регрессии на стандартизированных данных:\n",
    "model = LinearRegression()\n",
    "model.fit(X_train_scaled, y_train)\n",
    "\n",
    "# Делаем предсказания на тренировочном и тестовом наборах:\n",
    "y_train_pred = model.predict(X_train_scaled)\n",
    "y_test_pred = model.predict(X_test_scaled)\n",
    "r2_train = r2_score(y_train, y_train_pred)\n",
    "mse_train = MSE(y_train, y_train_pred)\n",
    "# Для тестового набора\n",
    "r2_test = r2_score(y_test, y_test_pred)\n",
    "mse_test = MSE(y_test, y_test_pred)\n",
    "\n",
    "# Результаты:\n",
    "print(\"Метрики качества для тренировочного набора:\")\n",
    "print(f\"R^2: {r2_train:.4f}\")\n",
    "print(f\"MSE: {mse_train:.4f}\")\n",
    "\n",
    "print(\"\\nМетрики качества для тестового набора:\")\n",
    "print(f\"R^2: {r2_test:.4f}\")\n",
    "print(f\"MSE: {mse_test:.4f}\")\n",
    "# your code here"
   ]
  },
  {
   "cell_type": "markdown",
   "metadata": {},
   "source": [
    "Для тренировочного набора у нас остались прежними R2 и MSE. При этом для тестового набора совсем немного поменялся MSE. "
   ]
  },
  {
   "cell_type": "markdown",
   "metadata": {
    "id": "oQZi8LYVmiPv"
   },
   "source": [
    "### **Задание 11 (0.5 балла)**\n",
    "\n",
    "Хотя стандартизация не помогла сильно прибавить в качестве она открыла возможность интерпретировать важность признаков в модели. Правило интерпретации такое:\n",
    "\n",
    "Чем больше коэффициент $\\beta_i$ по модулю, тем важнее признак.\n",
    "\n",
    "**Ответьте на вопрос:**\n",
    "\n",
    "- [ ] Какой признак оказался наиболее информативным в предсказании цены?"
   ]
  },
  {
   "cell_type": "code",
   "execution_count": null,
   "metadata": {
    "id": "u9onBNrhmt1r"
   },
   "outputs": [
    {
     "name": "stdout",
     "output_type": "stream",
     "text": [
      "Важность признаков (по модулю коэффициентов):\n",
      "           Feature    Coefficient  Absolute_Coefficient\n",
      "3  max_power_float  322807.353259         322807.353259\n",
      "4             year  152772.570846         152772.570846\n",
      "2       engine_num   61178.494337          61178.494337\n",
      "5        km_driven  -44158.818520          44158.818520\n",
      "1    mileage_float   28833.925778          28833.925778\n",
      "0            seats  -23209.132486          23209.132486\n",
      "\n",
      "Наиболее информативный признак: max_power_float\n"
     ]
    }
   ],
   "source": [
    "# your code here\n",
    "coefficients = model.coef_\n",
    "feature_importance = pd.DataFrame({\n",
    "    'Feature': X_train.columns,\n",
    "    'Coefficient': coefficients\n",
    "})\n",
    "\n",
    "feature_importance['Absolute_Coefficient'] = feature_importance['Coefficient'].abs()\n",
    "feature_importance = feature_importance.sort_values(by='Absolute_Coefficient', ascending=False)\n",
    "\n",
    "print(\"Важность признаков (по модулю коэффициентов):\")\n",
    "print(feature_importance)\n",
    "\n",
    "most_important_feature = feature_importance.iloc[0]['Feature']\n",
    "print(f\"\\nНаиболее информативный признак: {most_important_feature}\")"
   ]
  },
  {
   "cell_type": "markdown",
   "metadata": {
    "id": "5BR3XLXUsm1q"
   },
   "source": [
    "### **Задание 12 (1.25 балла)**\n",
    "\n",
    "Попробуем улучшить нашу модель с помощью применения регуляризации. Для этого воспльзуемся `Lasso` регрессией.  Кроме того, попробуйте использовать её теоретическое свойство отбора признаков, за счет зануления незначимых коэффициентов.\n",
    "\n",
    "**Задание:**\n",
    "\n",
    "- [ ] Обучите Lasso регрессию на тренировочном наборе данных с нормализованными признаками. Оцените её качество\n",
    "- [ ] Проверьте, занулила ли L1-регуляризация с параметрами по умолчанию какие-нибудь веса? Предположите почему."
   ]
  },
  {
   "cell_type": "code",
   "execution_count": null,
   "metadata": {
    "id": "yhR5eajPn0kl"
   },
   "outputs": [
    {
     "name": "stdout",
     "output_type": "stream",
     "text": [
      "Метрики качества для тренировочного набора (Lasso):\n",
      "R^2: 0.5923\n",
      "MSE: 116874153937.4863\n",
      "\n",
      "Метрики качества для тестового набора (Lasso):\n",
      "R^2: 0.5941\n",
      "MSE: 233299421201.2669\n"
     ]
    }
   ],
   "source": [
    "from sklearn.linear_model import Lasso\n",
    "\n",
    "lasso_model = Lasso(alpha=1.0)  # alpha - параметр регуляризации (по умолчанию 1.0)\n",
    "lasso_model.fit(X_train_scaled, y_train)\n",
    "\n",
    "y_train_pred_lasso = lasso_model.predict(X_train_scaled)\n",
    "y_test_pred_lasso = lasso_model.predict(X_test_scaled)\n",
    "\n",
    "r2_train_lasso = r2_score(y_train, y_train_pred_lasso)\n",
    "mse_train_lasso = MSE(y_train, y_train_pred_lasso)\n",
    "\n",
    "r2_test_lasso = r2_score(y_test, y_test_pred_lasso)\n",
    "mse_test_lasso = MSE(y_test, y_test_pred_lasso)\n",
    "\n",
    "print(\"Метрики качества для тренировочного набора (Lasso):\")\n",
    "print(f\"R^2: {r2_train_lasso:.4f}\")\n",
    "print(f\"MSE: {mse_train_lasso:.4f}\")\n",
    "\n",
    "print(\"\\nМетрики качества для тестового набора (Lasso):\")\n",
    "print(f\"R^2: {r2_test_lasso:.4f}\")\n",
    "print(f\"MSE: {mse_test_lasso:.4f}\")\n",
    "\n",
    "# your code here"
   ]
  },
  {
   "cell_type": "code",
   "execution_count": 104,
   "metadata": {
    "id": "EBJKIp6FouYw"
   },
   "outputs": [
    {
     "name": "stdout",
     "output_type": "stream",
     "text": [
      "\n",
      "Коэффициенты модели Lasso:\n",
      "seats: -23206.5778\n",
      "mileage_float: 28832.6758\n",
      "engine_num: 61174.5197\n",
      "max_power_float: 322808.0333\n",
      "year: 152772.1526\n",
      "km_driven: -44157.7953\n",
      "\n",
      "Признаки с зануленными коэффициентами:\n",
      "[]\n",
      "\n",
      "Lasso не занулила коэффициенты.\n",
      "Это может быть связано с тем, что все признаки имеют значимое влияние на целевую переменную.\n"
     ]
    }
   ],
   "source": [
    "# your code here\n",
    "# Проверяем, занулила ли Lasso какие-нибудь веса\n",
    "coefficients = lasso_model.coef_\n",
    "zero_coefficients = [feature for feature, coef in zip(X_train.columns, coefficients) if coef == 0]\n",
    "\n",
    "print(\"\\nКоэффициенты модели Lasso:\")\n",
    "for feature, coef in zip(X_train.columns, coefficients):\n",
    "    print(f\"{feature}: {coef:.4f}\")\n",
    "\n",
    "print(\"\\nПризнаки с зануленными коэффициентами:\")\n",
    "print(zero_coefficients)\n",
    "\n",
    "if len(zero_coefficients) > 0:\n",
    "    print(\"\\nLasso занулила коэффициенты для следующих признаков:\", zero_coefficients)\n",
    "    print(\"Это может быть связано с тем, что эти признаки незначимы для предсказания целевой переменной.\")\n",
    "else:\n",
    "    print(\"\\nLasso не занулила коэффициенты.\")\n",
    "    print(\"Это может быть связано с тем, что все признаки имеют значимое влияние на целевую переменную.\")"
   ]
  },
  {
   "cell_type": "markdown",
   "metadata": {
    "id": "YYWLInilqQTE"
   },
   "source": [
    "### **Задание 13 Финальный рывок (2.5 балла)**\n",
    "\n",
    "До этого мы с вами использовали `train` для обучения и `test` для прогнозирования. Но у нас есть ещё одна задача — подобрать оптимальные параметры модели. Для этого используем кросс-валидацию, описанную на семинарах.\n",
    "\n",
    "Кроме того, выжмем максимум из модификаций регрессии. Построим `ElasticNet`. И сделаем всё по порядку.\n",
    "\n",
    "**Ваша задача 1:**\n",
    "\n",
    "- [ ] Перебором по сетке (c 10-ю фолдами) подберите оптимальные параметры для Lasso-регрессии. Вам пригодится класс [GridSearchCV](https://scikit-learn.org/stable/modules/generated/sklearn.model_selection.GridSearchCV.html).\n",
    "- [ ] Ответьте на вопросы:\n",
    " - Сколько грид-сёрчу пришлось обучать моделей?\n",
    " - Какой коэффициент регуляризации у лучшей из перебранных моделей? Занулились ли какие-нибудь из весов при такой регуляризации?"
   ]
  },
  {
   "cell_type": "code",
   "execution_count": 108,
   "metadata": {
    "id": "mdGQ6CvApr_P"
   },
   "outputs": [
    {
     "name": "stdout",
     "output_type": "stream",
     "text": [
      "Метрики качества для тренировочного набора (Lasso, лучшая модель):\n",
      "R^2: 0.5923\n",
      "MSE: 116874240016.2721\n",
      "\n",
      "Метрики качества для тестового набора (Lasso, лучшая модель):\n",
      "R^2: 0.5940\n",
      "MSE: 233364384949.0782\n",
      "\n",
      "Лучший параметр alpha: 100\n"
     ]
    }
   ],
   "source": [
    "from sklearn.model_selection import GridSearchCV\n",
    "\n",
    "\n",
    "param_grid = {\n",
    "    'alpha': [0.01, 0.1, 1, 10, 100] \n",
    "}\n",
    "\n",
    "lasso_model = Lasso()\n",
    "grid_search = GridSearchCV(lasso_model, param_grid, cv=10, scoring='neg_mean_squared_error')\n",
    "\n",
    "grid_search.fit(X_train_scaled, y_train)\n",
    "\n",
    "\n",
    "best_lasso_model = grid_search.best_estimator_\n",
    "best_alpha = grid_search.best_params_['alpha']\n",
    "\n",
    "\n",
    "y_train_pred_best_lasso = best_lasso_model.predict(X_train_scaled)\n",
    "y_test_pred_best_lasso = best_lasso_model.predict(X_test_scaled)\n",
    "\n",
    "\n",
    "r2_train_best_lasso = r2_score(y_train, y_train_pred_best_lasso)\n",
    "mse_train_best_lasso = MSE(y_train, y_train_pred_best_lasso)\n",
    "\n",
    "\n",
    "r2_test_best_lasso = r2_score(y_test, y_test_pred_best_lasso)\n",
    "mse_test_best_lasso = MSE(y_test, y_test_pred_best_lasso)\n",
    "\n",
    "\n",
    "print(\"Метрики качества для тренировочного набора (Lasso, лучшая модель):\")\n",
    "print(f\"R^2: {r2_train_best_lasso:.4f}\")\n",
    "print(f\"MSE: {mse_train_best_lasso:.4f}\")\n",
    "\n",
    "print(\"\\nМетрики качества для тестового набора (Lasso, лучшая модель):\")\n",
    "print(f\"R^2: {r2_test_best_lasso:.4f}\")\n",
    "print(f\"MSE: {mse_test_best_lasso:.4f}\")\n",
    "\n",
    "print(\"\\nЛучший параметр alpha:\", best_alpha)\n",
    "\n",
    "# your code here"
   ]
  },
  {
   "cell_type": "code",
   "execution_count": 110,
   "metadata": {
    "id": "joyYE2Q5shu5"
   },
   "outputs": [
    {
     "name": "stdout",
     "output_type": "stream",
     "text": [
      "\n",
      "Коэффициенты лучшей модели Lasso:\n",
      "seats: -22941.6676\n",
      "mileage_float: 28674.8892\n",
      "engine_num: 60743.2551\n",
      "max_power_float: 322881.7840\n",
      "year: 152744.0666\n",
      "km_driven: -44051.5619\n",
      "\n",
      "Признаки с зануленными коэффициентами:\n",
      "[]\n",
      "\n",
      "Сколько моделей обучил GridSearchCV: 50\n",
      "Лучший коэффициент регуляризации (alpha): 100\n",
      "Занулились ли какие-нибудь веса: Нет\n"
     ]
    }
   ],
   "source": [
    "# your code here\n",
    "\n",
    "coefficients = best_lasso_model.coef_\n",
    "zero_coefficients = [feature for feature, coef in zip(X_train.columns, coefficients) if coef == 0]\n",
    "\n",
    "print(\"\\nКоэффициенты лучшей модели Lasso:\")\n",
    "for feature, coef in zip(X_train.columns, coefficients):\n",
    "    print(f\"{feature}: {coef:.4f}\")\n",
    "\n",
    "print(\"\\nПризнаки с зануленными коэффициентами:\")\n",
    "print(zero_coefficients)\n",
    "\n",
    "print(\"\\nСколько моделей обучил GridSearchCV:\", grid_search.n_splits_ * len(param_grid['alpha']))\n",
    "print(\"Лучший коэффициент регуляризации (alpha):\", best_alpha)\n",
    "\n",
    "if len(zero_coefficients) > 0:\n",
    "    print(\"Занулились ли какие-нибудь веса:\", \"Да\")\n",
    "    print(\"Признаки с зануленными коэффициентами:\", zero_coefficients)\n",
    "else:\n",
    "    print(\"Занулились ли какие-нибудь веса:\", \"Нет\")"
   ]
  },
  {
   "cell_type": "markdown",
   "metadata": {
    "id": "05579aJCuY2A"
   },
   "source": [
    "**Ваша задача 2:**\n",
    "\n",
    "- [ ] Перебором по сетке (c 10-ю фолдами) подберите оптимальные параметры для [ElasticNet](https://scikit-learn.org/stable/modules/generated/sklearn.linear_model.ElasticNet.html) регрессии.\n",
    "- [ ] Ответьте на вопрос:\n",
    " - Сколько грид-сёрчу пришлось обучать моделей?\n",
    " - Какие гиперпараметры соответствуют лучшей (по выбранной метрике качества) из перебранных моделей?"
   ]
  },
  {
   "cell_type": "code",
   "execution_count": 114,
   "metadata": {
    "id": "F3e5MGZMoeCR"
   },
   "outputs": [
    {
     "name": "stdout",
     "output_type": "stream",
     "text": [
      "Метрики качества для тренировочного набора (ElasticNet, лучшая модель):\n",
      "R^2: 0.5922\n",
      "MSE: 116889619165.8532\n",
      "\n",
      "Метрики качества для тестового набора (ElasticNet, лучшая модель):\n",
      "R^2: 0.5919\n",
      "MSE: 234562588912.2074\n",
      "\n",
      "Лучшие параметры:\n",
      "alpha: 0.1\n",
      "l1_ratio: 0.9\n",
      "\n",
      "Сколько моделей обучил GridSearchCV: 120\n",
      "Лучшие гиперпараметры: {'alpha': 0.1, 'l1_ratio': 0.9}\n"
     ]
    }
   ],
   "source": [
    "from sklearn.linear_model import ElasticNet\n",
    "param_grid = {\n",
    "    'alpha': [0.01, 0.1, 1, 10],  \n",
    "    'l1_ratio': [0.1, 0.5, 0.9]  \n",
    "}\n",
    "elastic_net_model = ElasticNet()\n",
    "grid_search = GridSearchCV(elastic_net_model, param_grid, cv=10, scoring='neg_mean_squared_error')\n",
    "\n",
    "grid_search.fit(X_train_scaled, y_train)\n",
    "\n",
    "best_elastic_net_model = grid_search.best_estimator_\n",
    "best_alpha = grid_search.best_params_['alpha']\n",
    "best_l1_ratio = grid_search.best_params_['l1_ratio']\n",
    "\n",
    "y_train_pred_best_elastic_net = best_elastic_net_model.predict(X_train_scaled)\n",
    "y_test_pred_best_elastic_net = best_elastic_net_model.predict(X_test_scaled)\n",
    "\n",
    "r2_train_best_elastic_net = r2_score(y_train, y_train_pred_best_elastic_net)\n",
    "mse_train_best_elastic_net = MSE(y_train, y_train_pred_best_elastic_net)\n",
    "\n",
    "r2_test_best_elastic_net = r2_score(y_test, y_test_pred_best_elastic_net)\n",
    "mse_test_best_elastic_net = MSE(y_test, y_test_pred_best_elastic_net)\n",
    "\n",
    "print(\"Метрики качества для тренировочного набора (ElasticNet, лучшая модель):\")\n",
    "print(f\"R^2: {r2_train_best_elastic_net:.4f}\")\n",
    "print(f\"MSE: {mse_train_best_elastic_net:.4f}\")\n",
    "\n",
    "print(\"\\nМетрики качества для тестового набора (ElasticNet, лучшая модель):\")\n",
    "print(f\"R^2: {r2_test_best_elastic_net:.4f}\")\n",
    "print(f\"MSE: {mse_test_best_elastic_net:.4f}\")\n",
    "\n",
    "print(\"\\nЛучшие параметры:\")\n",
    "print(f\"alpha: {best_alpha}\")\n",
    "print(f\"l1_ratio: {best_l1_ratio}\")\n",
    "\n",
    "print(\"\\nСколько моделей обучил GridSearchCV:\", grid_search.n_splits_ * len(param_grid['alpha']) * len(param_grid['l1_ratio']))\n",
    "print(\"Лучшие гиперпараметры:\", grid_search.best_params_)\n",
    "# your code here"
   ]
  },
  {
   "cell_type": "markdown",
   "metadata": {
    "id": "Y2y-_PCHrevF"
   },
   "source": [
    "# **Часть 3| Добавляем категориальные фичи (3.75 балла)**\n",
    "\n",
    "Попробуем для улучшения модели дать ей больше признаков. Добавим категориальные фичи.\n"
   ]
  },
  {
   "cell_type": "markdown",
   "metadata": {
    "id": "frLASc5L8Tu5"
   },
   "source": [
    "### **Задание 14 (0.5 балла)** Проанализируйте столбец `name`. Очевидно, что эта переменная является категориальной, однако категорий в ней много.\n",
    "\n",
    "В этом домашнем задании мы предлагаем удалить его.\n",
    "\n",
    "**Ваша задача:**\n",
    "1. Удалить столбец`name`\n",
    "2. Снова объединить категориальные с вещественными признаками."
   ]
  },
  {
   "cell_type": "code",
   "execution_count": 117,
   "metadata": {
    "id": "jsXiFjaFrng-"
   },
   "outputs": [
    {
     "data": {
      "text/html": [
       "<div>\n",
       "<style scoped>\n",
       "    .dataframe tbody tr th:only-of-type {\n",
       "        vertical-align: middle;\n",
       "    }\n",
       "\n",
       "    .dataframe tbody tr th {\n",
       "        vertical-align: top;\n",
       "    }\n",
       "\n",
       "    .dataframe thead th {\n",
       "        text-align: right;\n",
       "    }\n",
       "</style>\n",
       "<table border=\"1\" class=\"dataframe\">\n",
       "  <thead>\n",
       "    <tr style=\"text-align: right;\">\n",
       "      <th></th>\n",
       "      <th>fuel</th>\n",
       "      <th>seller_type</th>\n",
       "      <th>transmission</th>\n",
       "      <th>owner</th>\n",
       "      <th>year</th>\n",
       "      <th>selling_price</th>\n",
       "      <th>km_driven</th>\n",
       "      <th>seats</th>\n",
       "      <th>mileage_float</th>\n",
       "      <th>engine_num</th>\n",
       "      <th>max_power_float</th>\n",
       "    </tr>\n",
       "  </thead>\n",
       "  <tbody>\n",
       "    <tr>\n",
       "      <th>0</th>\n",
       "      <td>Diesel</td>\n",
       "      <td>Individual</td>\n",
       "      <td>Manual</td>\n",
       "      <td>First Owner</td>\n",
       "      <td>2014</td>\n",
       "      <td>450000</td>\n",
       "      <td>145500</td>\n",
       "      <td>5</td>\n",
       "      <td>23.40</td>\n",
       "      <td>1248</td>\n",
       "      <td>74.00</td>\n",
       "    </tr>\n",
       "    <tr>\n",
       "      <th>1</th>\n",
       "      <td>Diesel</td>\n",
       "      <td>Individual</td>\n",
       "      <td>Manual</td>\n",
       "      <td>Second Owner</td>\n",
       "      <td>2014</td>\n",
       "      <td>370000</td>\n",
       "      <td>120000</td>\n",
       "      <td>5</td>\n",
       "      <td>21.14</td>\n",
       "      <td>1498</td>\n",
       "      <td>103.52</td>\n",
       "    </tr>\n",
       "    <tr>\n",
       "      <th>2</th>\n",
       "      <td>Diesel</td>\n",
       "      <td>Individual</td>\n",
       "      <td>Manual</td>\n",
       "      <td>First Owner</td>\n",
       "      <td>2010</td>\n",
       "      <td>225000</td>\n",
       "      <td>127000</td>\n",
       "      <td>5</td>\n",
       "      <td>23.00</td>\n",
       "      <td>1396</td>\n",
       "      <td>90.00</td>\n",
       "    </tr>\n",
       "    <tr>\n",
       "      <th>3</th>\n",
       "      <td>Petrol</td>\n",
       "      <td>Individual</td>\n",
       "      <td>Manual</td>\n",
       "      <td>First Owner</td>\n",
       "      <td>2007</td>\n",
       "      <td>130000</td>\n",
       "      <td>120000</td>\n",
       "      <td>5</td>\n",
       "      <td>16.10</td>\n",
       "      <td>1298</td>\n",
       "      <td>88.20</td>\n",
       "    </tr>\n",
       "    <tr>\n",
       "      <th>4</th>\n",
       "      <td>Petrol</td>\n",
       "      <td>Individual</td>\n",
       "      <td>Manual</td>\n",
       "      <td>First Owner</td>\n",
       "      <td>2017</td>\n",
       "      <td>440000</td>\n",
       "      <td>45000</td>\n",
       "      <td>5</td>\n",
       "      <td>20.14</td>\n",
       "      <td>1197</td>\n",
       "      <td>81.86</td>\n",
       "    </tr>\n",
       "    <tr>\n",
       "      <th>...</th>\n",
       "      <td>...</td>\n",
       "      <td>...</td>\n",
       "      <td>...</td>\n",
       "      <td>...</td>\n",
       "      <td>...</td>\n",
       "      <td>...</td>\n",
       "      <td>...</td>\n",
       "      <td>...</td>\n",
       "      <td>...</td>\n",
       "      <td>...</td>\n",
       "      <td>...</td>\n",
       "    </tr>\n",
       "    <tr>\n",
       "      <th>5835</th>\n",
       "      <td>Petrol</td>\n",
       "      <td>Individual</td>\n",
       "      <td>Manual</td>\n",
       "      <td>First Owner</td>\n",
       "      <td>2008</td>\n",
       "      <td>120000</td>\n",
       "      <td>191000</td>\n",
       "      <td>5</td>\n",
       "      <td>17.92</td>\n",
       "      <td>1086</td>\n",
       "      <td>62.10</td>\n",
       "    </tr>\n",
       "    <tr>\n",
       "      <th>5836</th>\n",
       "      <td>Petrol</td>\n",
       "      <td>Individual</td>\n",
       "      <td>Manual</td>\n",
       "      <td>Second Owner</td>\n",
       "      <td>2013</td>\n",
       "      <td>260000</td>\n",
       "      <td>50000</td>\n",
       "      <td>5</td>\n",
       "      <td>18.90</td>\n",
       "      <td>998</td>\n",
       "      <td>67.10</td>\n",
       "    </tr>\n",
       "    <tr>\n",
       "      <th>5837</th>\n",
       "      <td>Petrol</td>\n",
       "      <td>Individual</td>\n",
       "      <td>Manual</td>\n",
       "      <td>First Owner</td>\n",
       "      <td>2013</td>\n",
       "      <td>320000</td>\n",
       "      <td>110000</td>\n",
       "      <td>5</td>\n",
       "      <td>18.50</td>\n",
       "      <td>1197</td>\n",
       "      <td>82.85</td>\n",
       "    </tr>\n",
       "    <tr>\n",
       "      <th>5838</th>\n",
       "      <td>Diesel</td>\n",
       "      <td>Individual</td>\n",
       "      <td>Manual</td>\n",
       "      <td>Fourth &amp; Above Owner</td>\n",
       "      <td>2007</td>\n",
       "      <td>135000</td>\n",
       "      <td>119000</td>\n",
       "      <td>5</td>\n",
       "      <td>16.80</td>\n",
       "      <td>1493</td>\n",
       "      <td>110.00</td>\n",
       "    </tr>\n",
       "    <tr>\n",
       "      <th>5839</th>\n",
       "      <td>Diesel</td>\n",
       "      <td>Individual</td>\n",
       "      <td>Manual</td>\n",
       "      <td>First Owner</td>\n",
       "      <td>2009</td>\n",
       "      <td>382000</td>\n",
       "      <td>120000</td>\n",
       "      <td>5</td>\n",
       "      <td>19.30</td>\n",
       "      <td>1248</td>\n",
       "      <td>73.90</td>\n",
       "    </tr>\n",
       "  </tbody>\n",
       "</table>\n",
       "<p>5840 rows × 11 columns</p>\n",
       "</div>"
      ],
      "text/plain": [
       "        fuel seller_type transmission                 owner  year  \\\n",
       "0     Diesel  Individual       Manual           First Owner  2014   \n",
       "1     Diesel  Individual       Manual          Second Owner  2014   \n",
       "2     Diesel  Individual       Manual           First Owner  2010   \n",
       "3     Petrol  Individual       Manual           First Owner  2007   \n",
       "4     Petrol  Individual       Manual           First Owner  2017   \n",
       "...      ...         ...          ...                   ...   ...   \n",
       "5835  Petrol  Individual       Manual           First Owner  2008   \n",
       "5836  Petrol  Individual       Manual          Second Owner  2013   \n",
       "5837  Petrol  Individual       Manual           First Owner  2013   \n",
       "5838  Diesel  Individual       Manual  Fourth & Above Owner  2007   \n",
       "5839  Diesel  Individual       Manual           First Owner  2009   \n",
       "\n",
       "      selling_price  km_driven  seats  mileage_float  engine_num  \\\n",
       "0            450000     145500      5          23.40        1248   \n",
       "1            370000     120000      5          21.14        1498   \n",
       "2            225000     127000      5          23.00        1396   \n",
       "3            130000     120000      5          16.10        1298   \n",
       "4            440000      45000      5          20.14        1197   \n",
       "...             ...        ...    ...            ...         ...   \n",
       "5835         120000     191000      5          17.92        1086   \n",
       "5836         260000      50000      5          18.90         998   \n",
       "5837         320000     110000      5          18.50        1197   \n",
       "5838         135000     119000      5          16.80        1493   \n",
       "5839         382000     120000      5          19.30        1248   \n",
       "\n",
       "      max_power_float  \n",
       "0               74.00  \n",
       "1              103.52  \n",
       "2               90.00  \n",
       "3               88.20  \n",
       "4               81.86  \n",
       "...               ...  \n",
       "5835            62.10  \n",
       "5836            67.10  \n",
       "5837            82.85  \n",
       "5838           110.00  \n",
       "5839            73.90  \n",
       "\n",
       "[5840 rows x 11 columns]"
      ]
     },
     "execution_count": 117,
     "metadata": {},
     "output_type": "execute_result"
    }
   ],
   "source": [
    "# your code here\n",
    "data_cleaned = data_cleaned.drop(columns=['name'])\n",
    "\n",
    "# Разделение признаков\n",
    "categorical_features = data_cleaned.select_dtypes(include=['object']).columns.tolist()  # категориальные признаки\n",
    "numeric_features = data_cleaned.select_dtypes(include=['float64', 'int64']).columns.tolist()  # вещественные признаки\n",
    "\n",
    "# Их объединение\n",
    "combined_features = categorical_features + numeric_features\n",
    "\n",
    "data_combined = data_cleaned[combined_features]\n",
    "\n",
    "data_combined"
   ]
  },
  {
   "cell_type": "markdown",
   "metadata": {
    "id": "wrGfeTnjv9Vx"
   },
   "source": [
    "### **Задание 15 (2 балла)**\n",
    "\n",
    "- [ ] Закодируйте категориалльные фичи и ``seats`` методом OneHot-кодирования. Обратите внимание, что во избежание мультиколлинеарности следует избавиться от одного из полученных столбцов при кодировании каждого признака методом OneHot."
   ]
  },
  {
   "cell_type": "code",
   "execution_count": 118,
   "metadata": {
    "id": "wbN4yM2Frob7"
   },
   "outputs": [
    {
     "name": "stdout",
     "output_type": "stream",
     "text": [
      "(5840, 17)\n"
     ]
    },
    {
     "data": {
      "text/html": [
       "<div>\n",
       "<style scoped>\n",
       "    .dataframe tbody tr th:only-of-type {\n",
       "        vertical-align: middle;\n",
       "    }\n",
       "\n",
       "    .dataframe tbody tr th {\n",
       "        vertical-align: top;\n",
       "    }\n",
       "\n",
       "    .dataframe thead th {\n",
       "        text-align: right;\n",
       "    }\n",
       "</style>\n",
       "<table border=\"1\" class=\"dataframe\">\n",
       "  <thead>\n",
       "    <tr style=\"text-align: right;\">\n",
       "      <th></th>\n",
       "      <th>year</th>\n",
       "      <th>selling_price</th>\n",
       "      <th>km_driven</th>\n",
       "      <th>seats</th>\n",
       "      <th>mileage_float</th>\n",
       "      <th>engine_num</th>\n",
       "      <th>max_power_float</th>\n",
       "      <th>fuel_Diesel</th>\n",
       "      <th>fuel_LPG</th>\n",
       "      <th>fuel_Petrol</th>\n",
       "      <th>seller_type_Individual</th>\n",
       "      <th>seller_type_Trustmark Dealer</th>\n",
       "      <th>transmission_Manual</th>\n",
       "      <th>owner_Fourth &amp; Above Owner</th>\n",
       "      <th>owner_Second Owner</th>\n",
       "      <th>owner_Test Drive Car</th>\n",
       "      <th>owner_Third Owner</th>\n",
       "    </tr>\n",
       "  </thead>\n",
       "  <tbody>\n",
       "    <tr>\n",
       "      <th>0</th>\n",
       "      <td>2014</td>\n",
       "      <td>450000</td>\n",
       "      <td>145500</td>\n",
       "      <td>5</td>\n",
       "      <td>23.40</td>\n",
       "      <td>1248</td>\n",
       "      <td>74.00</td>\n",
       "      <td>True</td>\n",
       "      <td>False</td>\n",
       "      <td>False</td>\n",
       "      <td>True</td>\n",
       "      <td>False</td>\n",
       "      <td>True</td>\n",
       "      <td>False</td>\n",
       "      <td>False</td>\n",
       "      <td>False</td>\n",
       "      <td>False</td>\n",
       "    </tr>\n",
       "    <tr>\n",
       "      <th>1</th>\n",
       "      <td>2014</td>\n",
       "      <td>370000</td>\n",
       "      <td>120000</td>\n",
       "      <td>5</td>\n",
       "      <td>21.14</td>\n",
       "      <td>1498</td>\n",
       "      <td>103.52</td>\n",
       "      <td>True</td>\n",
       "      <td>False</td>\n",
       "      <td>False</td>\n",
       "      <td>True</td>\n",
       "      <td>False</td>\n",
       "      <td>True</td>\n",
       "      <td>False</td>\n",
       "      <td>True</td>\n",
       "      <td>False</td>\n",
       "      <td>False</td>\n",
       "    </tr>\n",
       "    <tr>\n",
       "      <th>2</th>\n",
       "      <td>2010</td>\n",
       "      <td>225000</td>\n",
       "      <td>127000</td>\n",
       "      <td>5</td>\n",
       "      <td>23.00</td>\n",
       "      <td>1396</td>\n",
       "      <td>90.00</td>\n",
       "      <td>True</td>\n",
       "      <td>False</td>\n",
       "      <td>False</td>\n",
       "      <td>True</td>\n",
       "      <td>False</td>\n",
       "      <td>True</td>\n",
       "      <td>False</td>\n",
       "      <td>False</td>\n",
       "      <td>False</td>\n",
       "      <td>False</td>\n",
       "    </tr>\n",
       "    <tr>\n",
       "      <th>3</th>\n",
       "      <td>2007</td>\n",
       "      <td>130000</td>\n",
       "      <td>120000</td>\n",
       "      <td>5</td>\n",
       "      <td>16.10</td>\n",
       "      <td>1298</td>\n",
       "      <td>88.20</td>\n",
       "      <td>False</td>\n",
       "      <td>False</td>\n",
       "      <td>True</td>\n",
       "      <td>True</td>\n",
       "      <td>False</td>\n",
       "      <td>True</td>\n",
       "      <td>False</td>\n",
       "      <td>False</td>\n",
       "      <td>False</td>\n",
       "      <td>False</td>\n",
       "    </tr>\n",
       "    <tr>\n",
       "      <th>4</th>\n",
       "      <td>2017</td>\n",
       "      <td>440000</td>\n",
       "      <td>45000</td>\n",
       "      <td>5</td>\n",
       "      <td>20.14</td>\n",
       "      <td>1197</td>\n",
       "      <td>81.86</td>\n",
       "      <td>False</td>\n",
       "      <td>False</td>\n",
       "      <td>True</td>\n",
       "      <td>True</td>\n",
       "      <td>False</td>\n",
       "      <td>True</td>\n",
       "      <td>False</td>\n",
       "      <td>False</td>\n",
       "      <td>False</td>\n",
       "      <td>False</td>\n",
       "    </tr>\n",
       "  </tbody>\n",
       "</table>\n",
       "</div>"
      ],
      "text/plain": [
       "   year  selling_price  km_driven  seats  mileage_float  engine_num  \\\n",
       "0  2014         450000     145500      5          23.40        1248   \n",
       "1  2014         370000     120000      5          21.14        1498   \n",
       "2  2010         225000     127000      5          23.00        1396   \n",
       "3  2007         130000     120000      5          16.10        1298   \n",
       "4  2017         440000      45000      5          20.14        1197   \n",
       "\n",
       "   max_power_float  fuel_Diesel  fuel_LPG  fuel_Petrol  \\\n",
       "0            74.00         True     False        False   \n",
       "1           103.52         True     False        False   \n",
       "2            90.00         True     False        False   \n",
       "3            88.20        False     False         True   \n",
       "4            81.86        False     False         True   \n",
       "\n",
       "   seller_type_Individual  seller_type_Trustmark Dealer  transmission_Manual  \\\n",
       "0                    True                         False                 True   \n",
       "1                    True                         False                 True   \n",
       "2                    True                         False                 True   \n",
       "3                    True                         False                 True   \n",
       "4                    True                         False                 True   \n",
       "\n",
       "   owner_Fourth & Above Owner  owner_Second Owner  owner_Test Drive Car  \\\n",
       "0                       False               False                 False   \n",
       "1                       False                True                 False   \n",
       "2                       False               False                 False   \n",
       "3                       False               False                 False   \n",
       "4                       False               False                 False   \n",
       "\n",
       "   owner_Third Owner  \n",
       "0              False  \n",
       "1              False  \n",
       "2              False  \n",
       "3              False  \n",
       "4              False  "
      ]
     },
     "execution_count": 118,
     "metadata": {},
     "output_type": "execute_result"
    }
   ],
   "source": [
    "from sklearn.preprocessing import OneHotEncoder # или можно использовать get_dummies из библиотеки pandas\n",
    "\n",
    "X_dum = pd.get_dummies(data_combined, drop_first=True)\n",
    "print(X_dum.shape)\n",
    "X_dum.head()\n",
    "# your code here"
   ]
  },
  {
   "cell_type": "markdown",
   "metadata": {
    "id": "rCrVls8SwJJX"
   },
   "source": []
  },
  {
   "cell_type": "markdown",
   "metadata": {
    "id": "b8fI5dQT-Fvx"
   },
   "source": [
    "### **Задание 16 (1.25 балла)**\n",
    "Повторим то, что делали на прошлом шаге для моделей на вещественных признаках, однако теперь с моделью `Ridge`.\n",
    "\n",
    "\n",
    "**Ваша задача:**\n",
    "- [ ] Переберите параметр регуляризации `alpha` для гребневой (ridge) регрессии с помощью класса `GridSearchCV` В качестве параметров при объявлении GridSearchCV кроме модели укажите метрику качества $R^2$. Кроссвалидируйтесь по 10-ти фолдам.\n",
    "- [ ] Ответье на вопрос: Удалось ли улучшить качество прогнозов?"
   ]
  },
  {
   "cell_type": "code",
   "execution_count": 121,
   "metadata": {
    "id": "SLXCtme53Oup"
   },
   "outputs": [
    {
     "name": "stdout",
     "output_type": "stream",
     "text": [
      "Метрики качества для тренировочного набора (Ridge, лучшая модель):\n",
      "R^2: 0.5921\n",
      "MSE: 116918018731.7746\n",
      "\n",
      "Метрики качества для тестового набора (Ridge, лучшая модель):\n",
      "R^2: 0.5904\n",
      "MSE: 235464192083.2854\n",
      "\n",
      "Лучший параметр alpha: 100\n"
     ]
    }
   ],
   "source": [
    "from sklearn.linear_model import Ridge\n",
    "param_grid = {\n",
    "    'alpha': [0.01, 0.1, 1, 10, 100]  \n",
    "}\n",
    "\n",
    "ridge_model = Ridge()\n",
    "grid_search = GridSearchCV(ridge_model, param_grid, cv=10, scoring='r2')\n",
    "\n",
    "grid_search.fit(X_train_scaled, y_train)\n",
    "best_ridge_model = grid_search.best_estimator_\n",
    "best_alpha = grid_search.best_params_['alpha']\n",
    "\n",
    "y_train_pred_best_ridge = best_ridge_model.predict(X_train_scaled)\n",
    "y_test_pred_best_ridge = best_ridge_model.predict(X_test_scaled)\n",
    "\n",
    "r2_train_best_ridge = r2_score(y_train, y_train_pred_best_ridge)\n",
    "mse_train_best_ridge = MSE(y_train, y_train_pred_best_ridge)\n",
    "\n",
    "r2_test_best_ridge = r2_score(y_test, y_test_pred_best_ridge)\n",
    "mse_test_best_ridge = MSE(y_test, y_test_pred_best_ridge)\n",
    "\n",
    "\n",
    "print(\"Метрики качества для тренировочного набора (Ridge, лучшая модель):\")\n",
    "print(f\"R^2: {r2_train_best_ridge:.4f}\")\n",
    "print(f\"MSE: {mse_train_best_ridge:.4f}\")\n",
    "\n",
    "print(\"\\nМетрики качества для тестового набора (Ridge, лучшая модель):\")\n",
    "print(f\"R^2: {r2_test_best_ridge:.4f}\")\n",
    "print(f\"MSE: {mse_test_best_ridge:.4f}\")\n",
    "\n",
    "print(\"\\nЛучший параметр alpha:\", best_alpha)\n",
    "\n",
    "# your code here"
   ]
  },
  {
   "cell_type": "markdown",
   "metadata": {},
   "source": [
    "Качество прогноза, к сожалению, улучшить не удалось.\n"
   ]
  },
  {
   "cell_type": "markdown",
   "metadata": {},
   "source": [
    "# **Часть 4 (7 баллов) | Классификация**\n",
    "\n"
   ]
  },
  {
   "cell_type": "code",
   "execution_count": 122,
   "metadata": {},
   "outputs": [
    {
     "name": "stdout",
     "output_type": "stream",
     "text": [
      "%pylab is deprecated, use %matplotlib inline and import the required libraries.\n",
      "Populating the interactive namespace from numpy and matplotlib\n"
     ]
    },
    {
     "name": "stderr",
     "output_type": "stream",
     "text": [
      "/Users/kurinaanastasiua/Desktop/4 курс/Python/myenv/lib/python3.9/site-packages/IPython/core/magics/pylab.py:162: UserWarning:\n",
      "\n",
      "pylab import has clobbered these variables: ['random']\n",
      "`%matplotlib` prevents importing * from pylab and numpy\n",
      "\n"
     ]
    }
   ],
   "source": [
    "%pylab inline\n",
    "import pandas as pd\n",
    "\n",
    "from sklearn.datasets import make_classification\n",
    "from sklearn.model_selection import train_test_split"
   ]
  },
  {
   "cell_type": "code",
   "execution_count": 123,
   "metadata": {},
   "outputs": [],
   "source": [
    "X, y = make_classification(\n",
    "    n_samples=100000, n_features=20, n_informative=10, n_redundant=10,\n",
    "    random_state=42)\n",
    "\n",
    "X_train, X_test, y_train, y_test = train_test_split(\n",
    "    X, y, test_size=0.3, random_state=42)"
   ]
  },
  {
   "cell_type": "markdown",
   "metadata": {},
   "source": [
    "### **Задание 13 (2 балла)**\n",
    "Обучите логистическую регрессию на синтетических данных."
   ]
  },
  {
   "cell_type": "code",
   "execution_count": 126,
   "metadata": {},
   "outputs": [
    {
     "name": "stdout",
     "output_type": "stream",
     "text": [
      "Точность (Accuracy): 0.8486666666666667\n",
      "\n",
      "Матрица ошибок (Confusion Matrix):\n",
      " [[12794  2244]\n",
      " [ 2296 12666]]\n",
      "\n",
      "Отчет о классификации (Classification Report):\n",
      "               precision    recall  f1-score   support\n",
      "\n",
      "           0       0.85      0.85      0.85     15038\n",
      "           1       0.85      0.85      0.85     14962\n",
      "\n",
      "    accuracy                           0.85     30000\n",
      "   macro avg       0.85      0.85      0.85     30000\n",
      "weighted avg       0.85      0.85      0.85     30000\n",
      "\n"
     ]
    }
   ],
   "source": [
    "# your code here\n",
    "from sklearn.linear_model import LogisticRegression\n",
    "from sklearn.metrics import accuracy_score, classification_report, confusion_matrix\n",
    "model = LogisticRegression(max_iter=1000, random_state=42)\n",
    "model.fit(X_train, y_train)\n",
    "\n",
    "y_pred = model.predict(X_test)\n",
    "\n",
    "accuracy = accuracy_score(y_test, y_pred)\n",
    "conf_matrix = confusion_matrix(y_test, y_pred)\n",
    "class_report = classification_report(y_test, y_pred)\n",
    "\n",
    "print(\"Точность (Accuracy):\", accuracy)\n",
    "print(\"\\nМатрица ошибок (Confusion Matrix):\\n\", conf_matrix)\n",
    "print(\"\\nОтчет о классификации (Classification Report):\\n\", class_report)"
   ]
  },
  {
   "cell_type": "markdown",
   "metadata": {},
   "source": [
    "На тестовой части посчитайте ROC-AUC, PR-AUC. Самостоятельно изучите, что такое PR-AUC.\n",
    "\n",
    "Постройте ROC и PR кривые. Проинтерпретируйте результат."
   ]
  },
  {
   "cell_type": "code",
   "execution_count": 128,
   "metadata": {},
   "outputs": [
    {
     "data": {
      "image/png": "[encoded data removed]",
      "text/plain": [
       "<Figure size 1200x500 with 2 Axes>"
      ]
     },
     "metadata": {},
     "output_type": "display_data"
    }
   ],
   "source": [
    "# your code here\n",
    "from sklearn.metrics import roc_curve, auc, precision_recall_curve, average_precision_score\n",
    "\n",
    "\n",
    "y_pred_proba = model.predict_proba(X_test)[:, 1]  \n",
    "\n",
    "\n",
    "fpr, tpr, thresholds_roc = roc_curve(y_test, y_pred_proba)\n",
    "roc_auc = auc(fpr, tpr)\n",
    "\n",
    "\n",
    "precision, recall, thresholds_pr = precision_recall_curve(y_test, y_pred_proba)\n",
    "average_precision = average_precision_score(y_test, y_pred_proba)\n",
    "\n",
    "\n",
    "plt.figure(figsize=(12, 5))\n",
    "\n",
    "\n",
    "plt.subplot(1, 2, 1)\n",
    "plt.plot(fpr, tpr, color='darkorange', lw=2, label=f'ROC curve (area = {roc_auc:.2f})')\n",
    "plt.plot([0, 1], [0, 1], color='navy', lw=2, linestyle='--')\n",
    "plt.xlabel('False Positive Rate')\n",
    "plt.ylabel('True Positive Rate')\n",
    "plt.title('Receiver Operating Characteristic (ROC)')\n",
    "plt.legend(loc=\"lower right\")\n",
    "\n",
    "plt.subplot(1, 2, 2)\n",
    "plt.plot(recall, precision, color='darkorange', lw=2, label=f'PR curve (AP = {average_precision:.2f})')\n",
    "plt.xlabel('Recall')\n",
    "plt.ylabel('Precision')\n",
    "plt.title('Precision-Recall Curve')\n",
    "plt.legend(loc=\"lower left\")\n",
    "\n",
    "plt.tight_layout()\n",
    "plt.show()"
   ]
  },
  {
   "cell_type": "markdown",
   "metadata": {},
   "source": [
    "Значения кривых ROC (0.93) и PR (0.92) позволяют сказать нам о достаточно высоком качестве модели. Первая кривая показывает то, насколько хорошо модель различает классы. Вторая кривая показывает точность и полноту предсказаний. "
   ]
  },
  {
   "cell_type": "markdown",
   "metadata": {},
   "source": [
    "### **Задание 14 (2 балла)**"
   ]
  },
  {
   "cell_type": "markdown",
   "metadata": {},
   "source": [
    "Загрузим данные с конкурса  [Kaggle Porto Seguro’s Safe Driver Prediction](https://www.kaggle.com/c/porto-seguro-safe-driver-prediction) (вам нужна только обучающая выборка). Задача состоит в определении водителей, которые в ближайший год воспользуются своей автомобильной страховкой (бинарная классификация). Но для нас важна будет не сама задача, а только её данные. При этом для задания мы немного модифицируем датасет."
   ]
  },
  {
   "cell_type": "code",
   "execution_count": 130,
   "metadata": {},
   "outputs": [],
   "source": [
    "data = pd.read_csv('train.csv', index_col=0)\n",
    "target = data.target.values\n",
    "data = data.drop('target', axis=1)\n",
    "X_train, X_test, y_train, y_test = train_test_split(data, target, test_size=0.2, random_state=124)"
   ]
  },
  {
   "cell_type": "markdown",
   "metadata": {},
   "source": [
    "Посчитайте качество (выведите все метрики классификации) на train и test при применении логистической регрессии."
   ]
  },
  {
   "cell_type": "code",
   "execution_count": 131,
   "metadata": {},
   "outputs": [
    {
     "name": "stderr",
     "output_type": "stream",
     "text": [
      "/Users/kurinaanastasiua/Desktop/4 курс/Python/myenv/lib/python3.9/site-packages/sklearn/metrics/_classification.py:1531: UndefinedMetricWarning:\n",
      "\n",
      "Precision is ill-defined and being set to 0.0 due to no predicted samples. Use `zero_division` parameter to control this behavior.\n",
      "\n",
      "/Users/kurinaanastasiua/Desktop/4 курс/Python/myenv/lib/python3.9/site-packages/sklearn/metrics/_classification.py:1531: UndefinedMetricWarning:\n",
      "\n",
      "Precision is ill-defined and being set to 0.0 in labels with no predicted samples. Use `zero_division` parameter to control this behavior.\n",
      "\n"
     ]
    },
    {
     "name": "stdout",
     "output_type": "stream",
     "text": [
      "Метрики качества на тренировочной выборке:\n",
      "Accuracy: 0.9635\n",
      "Precision: 0.0000\n",
      "Recall: 0.0000\n",
      "F1-score: 0.0000\n",
      "Confusion Matrix:\n",
      " [[458796      0]\n",
      " [ 17373      0]]\n",
      "Classification Report:\n",
      "               precision    recall  f1-score   support\n",
      "\n",
      "           0       0.96      1.00      0.98    458796\n",
      "           1       0.00      0.00      0.00     17373\n",
      "\n",
      "    accuracy                           0.96    476169\n",
      "   macro avg       0.48      0.50      0.49    476169\n",
      "weighted avg       0.93      0.96      0.95    476169\n",
      "\n",
      "\n",
      "Метрики качества на тестовой выборке:\n",
      "Accuracy: 0.9637\n",
      "Precision: 0.0000\n",
      "Recall: 0.0000\n",
      "F1-score: 0.0000\n",
      "Confusion Matrix:\n",
      " [[114722      0]\n",
      " [  4321      0]]\n",
      "Classification Report:\n",
      "               precision    recall  f1-score   support\n",
      "\n",
      "           0       0.96      1.00      0.98    114722\n",
      "           1       0.00      0.00      0.00      4321\n",
      "\n",
      "    accuracy                           0.96    119043\n",
      "   macro avg       0.48      0.50      0.49    119043\n",
      "weighted avg       0.93      0.96      0.95    119043\n",
      "\n"
     ]
    },
    {
     "name": "stderr",
     "output_type": "stream",
     "text": [
      "/Users/kurinaanastasiua/Desktop/4 курс/Python/myenv/lib/python3.9/site-packages/sklearn/metrics/_classification.py:1531: UndefinedMetricWarning:\n",
      "\n",
      "Precision is ill-defined and being set to 0.0 in labels with no predicted samples. Use `zero_division` parameter to control this behavior.\n",
      "\n",
      "/Users/kurinaanastasiua/Desktop/4 курс/Python/myenv/lib/python3.9/site-packages/sklearn/metrics/_classification.py:1531: UndefinedMetricWarning:\n",
      "\n",
      "Precision is ill-defined and being set to 0.0 in labels with no predicted samples. Use `zero_division` parameter to control this behavior.\n",
      "\n",
      "/Users/kurinaanastasiua/Desktop/4 курс/Python/myenv/lib/python3.9/site-packages/sklearn/metrics/_classification.py:1531: UndefinedMetricWarning:\n",
      "\n",
      "Precision is ill-defined and being set to 0.0 due to no predicted samples. Use `zero_division` parameter to control this behavior.\n",
      "\n",
      "/Users/kurinaanastasiua/Desktop/4 курс/Python/myenv/lib/python3.9/site-packages/sklearn/metrics/_classification.py:1531: UndefinedMetricWarning:\n",
      "\n",
      "Precision is ill-defined and being set to 0.0 in labels with no predicted samples. Use `zero_division` parameter to control this behavior.\n",
      "\n",
      "/Users/kurinaanastasiua/Desktop/4 курс/Python/myenv/lib/python3.9/site-packages/sklearn/metrics/_classification.py:1531: UndefinedMetricWarning:\n",
      "\n",
      "Precision is ill-defined and being set to 0.0 in labels with no predicted samples. Use `zero_division` parameter to control this behavior.\n",
      "\n",
      "/Users/kurinaanastasiua/Desktop/4 курс/Python/myenv/lib/python3.9/site-packages/sklearn/metrics/_classification.py:1531: UndefinedMetricWarning:\n",
      "\n",
      "Precision is ill-defined and being set to 0.0 in labels with no predicted samples. Use `zero_division` parameter to control this behavior.\n",
      "\n"
     ]
    }
   ],
   "source": [
    "# your code here\n",
    "\n",
    "import pandas as pd\n",
    "from sklearn.model_selection import train_test_split\n",
    "from sklearn.linear_model import LogisticRegression\n",
    "from sklearn.metrics import accuracy_score, precision_score, recall_score, f1_score, classification_report, confusion_matrix\n",
    "\n",
    "X_train, X_test, y_train, y_test = train_test_split(data, target, test_size=0.2, random_state=124)\n",
    "\n",
    "\n",
    "model = LogisticRegression(max_iter=1000, random_state=124)\n",
    "model.fit(X_train, y_train)\n",
    "\n",
    "y_train_pred = model.predict(X_train)\n",
    "y_test_pred = model.predict(X_test)\n",
    "\n",
    "train_accuracy = accuracy_score(y_train, y_train_pred)\n",
    "train_precision = precision_score(y_train, y_train_pred)\n",
    "train_recall = recall_score(y_train, y_train_pred)\n",
    "train_f1 = f1_score(y_train, y_train_pred)\n",
    "train_conf_matrix = confusion_matrix(y_train, y_train_pred)\n",
    "train_class_report = classification_report(y_train, y_train_pred)\n",
    "\n",
    "test_accuracy = accuracy_score(y_test, y_test_pred)\n",
    "test_precision = precision_score(y_test, y_test_pred)\n",
    "test_recall = recall_score(y_test, y_test_pred)\n",
    "test_f1 = f1_score(y_test, y_test_pred)\n",
    "test_conf_matrix = confusion_matrix(y_test, y_test_pred)\n",
    "test_class_report = classification_report(y_test, y_test_pred)\n",
    "\n",
    "# Вывод результатов\n",
    "print(\"Метрики качества на тренировочной выборке:\")\n",
    "print(f\"Accuracy: {train_accuracy:.4f}\")\n",
    "print(f\"Precision: {train_precision:.4f}\")\n",
    "print(f\"Recall: {train_recall:.4f}\")\n",
    "print(f\"F1-score: {train_f1:.4f}\")\n",
    "print(\"Confusion Matrix:\\n\", train_conf_matrix)\n",
    "print(\"Classification Report:\\n\", train_class_report)\n",
    "\n",
    "print(\"\\nМетрики качества на тестовой выборке:\")\n",
    "print(f\"Accuracy: {test_accuracy:.4f}\")\n",
    "print(f\"Precision: {test_precision:.4f}\")\n",
    "print(f\"Recall: {test_recall:.4f}\")\n",
    "print(f\"F1-score: {test_f1:.4f}\")\n",
    "print(\"Confusion Matrix:\\n\", test_conf_matrix)\n",
    "print(\"Classification Report:\\n\", test_class_report)"
   ]
  },
  {
   "cell_type": "markdown",
   "metadata": {},
   "source": [
    "Показатели высокие, что говорит о хорошем качестве модели. На тестовой выборке Accuracy доходит до 0.96\n"
   ]
  },
  {
   "cell_type": "markdown",
   "metadata": {},
   "source": [
    "### **Задание 15 (2 балла)**"
   ]
  },
  {
   "cell_type": "markdown",
   "metadata": {},
   "source": [
    "Закодируйте все категориальные признаки с помощью one-hot-кодирования, а числовые признаки масштабируйте. Обучите логистическую регрессию и посмотрите, как изменилось качество модели (с тем, что было до предобработки). Измерьте время, потребовавшееся на обучение модели. Исходные колонки с категориальными признаками можно удалить. Сколько признаков мы получили?"
   ]
  },
  {
   "cell_type": "code",
   "execution_count": 133,
   "metadata": {},
   "outputs": [
    {
     "name": "stderr",
     "output_type": "stream",
     "text": [
      "/Users/kurinaanastasiua/Desktop/4 курс/Python/myenv/lib/python3.9/site-packages/sklearn/metrics/_classification.py:1531: UndefinedMetricWarning:\n",
      "\n",
      "Precision is ill-defined and being set to 0.0 in labels with no predicted samples. Use `zero_division` parameter to control this behavior.\n",
      "\n",
      "/Users/kurinaanastasiua/Desktop/4 курс/Python/myenv/lib/python3.9/site-packages/sklearn/metrics/_classification.py:1531: UndefinedMetricWarning:\n",
      "\n",
      "Precision is ill-defined and being set to 0.0 in labels with no predicted samples. Use `zero_division` parameter to control this behavior.\n",
      "\n",
      "/Users/kurinaanastasiua/Desktop/4 курс/Python/myenv/lib/python3.9/site-packages/sklearn/metrics/_classification.py:1531: UndefinedMetricWarning:\n",
      "\n",
      "Precision is ill-defined and being set to 0.0 in labels with no predicted samples. Use `zero_division` parameter to control this behavior.\n",
      "\n"
     ]
    },
    {
     "name": "stdout",
     "output_type": "stream",
     "text": [
      "Время обучения модели: 4.420127868652344 секунд\n",
      "\n",
      "Метрики качества на тестовой выборке:\n",
      "Accuracy: 0.9637\n",
      "Confusion Matrix:\n",
      " [[114722      0]\n",
      " [  4321      0]]\n",
      "Classification Report:\n",
      "               precision    recall  f1-score   support\n",
      "\n",
      "           0       0.96      1.00      0.98    114722\n",
      "           1       0.00      0.00      0.00      4321\n",
      "\n",
      "    accuracy                           0.96    119043\n",
      "   macro avg       0.48      0.50      0.49    119043\n",
      "weighted avg       0.93      0.96      0.95    119043\n",
      "\n",
      "\n",
      "Количество признаков после кодирования: 57\n"
     ]
    }
   ],
   "source": [
    "# your code here\n",
    "from sklearn.compose import ColumnTransformer\n",
    "from sklearn.pipeline import Pipeline\n",
    "\n",
    "categorical_features = X_train.select_dtypes(include=['object']).columns.tolist()\n",
    "numeric_features = X_train.select_dtypes(include=['float64', 'int64']).columns.tolist()\n",
    "\n",
    "\n",
    "preprocessor = ColumnTransformer(\n",
    "    transformers=[\n",
    "        ('num', StandardScaler(), numeric_features),  # Масштабирование числовых признаков\n",
    "        ('cat', OneHotEncoder(handle_unknown='ignore'), categorical_features)  # One-Hot-кодирование категориальных признаков\n",
    "    ])\n",
    "\n",
    "\n",
    "pipeline = Pipeline(steps=[\n",
    "    ('preprocessor', preprocessor),  # Предобработка данных\n",
    "    ('classifier', LogisticRegression(max_iter=1000, random_state=124))  # Логистическая регрессия\n",
    "])\n",
    "\n",
    "\n",
    "start_time = time.time()\n",
    "\n",
    "\n",
    "pipeline.fit(X_train, y_train)\n",
    "\n",
    "end_time = time.time()\n",
    "training_time = end_time - start_time\n",
    "\n",
    "\n",
    "y_test_pred = pipeline.predict(X_test)\n",
    "\n",
    "test_accuracy = accuracy_score(y_test, y_test_pred)\n",
    "test_conf_matrix = confusion_matrix(y_test, y_test_pred)\n",
    "test_class_report = classification_report(y_test, y_test_pred)\n",
    "\n",
    "\n",
    "print(\"Время обучения модели:\", training_time, \"секунд\")\n",
    "print(\"\\nМетрики качества на тестовой выборке:\")\n",
    "print(f\"Accuracy: {test_accuracy:.4f}\")\n",
    "print(\"Confusion Matrix:\\n\", test_conf_matrix)\n",
    "print(\"Classification Report:\\n\", test_class_report)\n",
    "\n",
    "\n",
    "encoded_features = preprocessor.transform(X_train).shape[1]\n",
    "print(\"\\nКоличество признаков после кодирования:\", encoded_features)"
   ]
  },
  {
   "cell_type": "markdown",
   "metadata": {},
   "source": [
    "### **Задание 16 (1 балла)**"
   ]
  },
  {
   "cell_type": "markdown",
   "metadata": {},
   "source": [
    "Давайте попробуем использовать SGDClassifier для улучшения качества модели. Улучшились ли метрики и качество в целом на трейне и тесте? Используйте GreedSearchCV"
   ]
  },
  {
   "cell_type": "markdown",
   "metadata": {},
   "source": [
    "К сожалению, этот код воспроизвести не удалось, так как не хватило мощности компьютера. Он думал 4 минуты и отключился"
   ]
  },
  {
   "cell_type": "code",
   "execution_count": null,
   "metadata": {},
   "outputs": [],
   "source": []
  }
 ],
 "metadata": {
  "colab": {
   "include_colab_link": true,
   "provenance": []
  },
  "kernelspec": {
   "display_name": "myenv",
   "language": "python",
   "name": "python3"
  },
  "language_info": {
   "codemirror_mode": {
    "name": "ipython",
    "version": 3
   },
   "file_extension": ".py",
   "mimetype": "text/x-python",
   "name": "python",
   "nbconvert_exporter": "python",
   "pygments_lexer": "ipython3",
   "version": "3.9.7"
  }
 },
 "nbformat": 4,
 "nbformat_minor": 0
}
